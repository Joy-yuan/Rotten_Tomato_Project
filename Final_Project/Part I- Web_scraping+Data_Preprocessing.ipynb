{
 "cells": [
  {
   "cell_type": "markdown",
   "metadata": {},
   "source": [
    "# Web Scraping"
   ]
  },
  {
   "cell_type": "code",
   "execution_count": 15,
   "metadata": {},
   "outputs": [],
   "source": [
    "import requests\n",
    "from bs4 import BeautifulSoup\n",
    "import pprint as p\n",
    "import pandas as pd\n",
    "import numpy as np\n",
    "from selenium import webdriver\n",
    "import time\n",
    "from selenium.webdriver.common.by import By\n",
    "import re"
   ]
  },
  {
   "cell_type": "markdown",
   "metadata": {},
   "source": [
    "## Scraping data from Rotten Tomato"
   ]
  },
  {
   "cell_type": "code",
   "execution_count": 16,
   "metadata": {},
   "outputs": [],
   "source": [
    "## 1. go into a page, grab all links, get a list of links\n",
    "## 2. create a list_; loop over each links, create a list:  [name, year, score], append to list_\n",
    "## 3.  turn this list_ into a dataframe; add index and column name \n",
    "\n",
    "def get_links(start,end):\n",
    "    list_link_allyear=[]\n",
    "    for year in range(start,end):\n",
    "        url = \"https://www.rottentomatoes.com/top/bestofrt/?year=%s\"%year\n",
    "        html_data = requests.get(url)\n",
    "    \n",
    "        if html_data.status_code == 200:\n",
    "            python_data = BeautifulSoup(html_data.content,'lxml')\n",
    "    \n",
    "        list_tag= python_data.find_all('tr')\n",
    "        list_tag_link=[]\n",
    "        for tag in list_tag:\n",
    "            list_new=tag.find('a',class_='unstyled articleLink')\n",
    "            list_tag_link.append(list_new)\n",
    "    \n",
    "        list_tag_link=[i for i in list_tag_link if i is not None]\n",
    "        list_link_year=[]\n",
    "        for tag in list_tag_link:\n",
    "            list_single_movie=[0,1,2]\n",
    "            list_single_movie[0]=tag.get_text().strip('\\n').strip()[:-7]\n",
    "            list_single_movie[1]=tag.get_text().strip('\\n').strip()[-5:-1]\n",
    "            list_single_movie[2]='https://www.rottentomatoes.com'+tag.get('href')\n",
    "            list_link_year.append(list_single_movie)\n",
    "        \n",
    "        list_link_allyear.extend(list_link_year)\n",
    "\n",
    "    print(len(list_link_allyear))\n",
    "    return list_link_allyear"
   ]
  },
  {
   "cell_type": "code",
   "execution_count": 17,
   "metadata": {},
   "outputs": [],
   "source": [
    "def get_movie(list_link):\n",
    "    list_movie_info=[]\n",
    "    for item in list_link:\n",
    "        html_data = requests.get(item[2],allow_redirects=False)\n",
    "        print(html_data)\n",
    "        if html_data.status_code == 200:\n",
    "            print('haha')\n",
    "            python_data = BeautifulSoup(html_data.content,'lxml')\n",
    "\n",
    "        movie_name=item[0]\n",
    "\n",
    "        try:\n",
    "            meter_score=python_data.find('span',class_=\"meter-value superPageFontColor\").find('span').get_text().strip('\\n')\n",
    "        except:\n",
    "            meter_score=np.NaN\n",
    "        try:\n",
    "            audience_score=python_data.find('div',class_=\"audience-score meter\").find('span',class_='superPageFontColor').get_text()\n",
    "        except:\n",
    "            audience_score=np.NaN\n",
    "        try:\n",
    "            movie_synopsis=python_data.find('div',class_=\"movie_synopsis clamp clamp-6\").get_text().strip('\\n').strip().strip('\\n')\n",
    "        except:\n",
    "            movie_synopsis=np.NaN\n",
    "\n",
    "        list_info=python_data.find_all('div',class_=\"meta-value\")\n",
    "        try:\n",
    "            rating=list_info[0].get_text().strip('\\n')\n",
    "        except:\n",
    "            rating=list_info\n",
    "        try:   \n",
    "            genre_list=list_info[1].find_all('a')\n",
    "            genre=[gen.get_text().strip('\\n').strip() for gen in genre_list]\n",
    "        except:\n",
    "            genre=np.NaN\n",
    "\n",
    "        try:\n",
    "            director=list_info[2].get_text().strip('\\n')\n",
    "        except:\n",
    "            director=np.NaN\n",
    "        try:\n",
    "            time=list_info[4].find('time').get_text().strip('\\n')\n",
    "        except:\n",
    "            time=np.NaN\n",
    "        try:\n",
    "            studio=list_info[-1].get_text().strip('\\n')\n",
    "        except:\n",
    "            studio=np.NaN\n",
    "        try:\n",
    "            runtime=list_info[-2].get_text().strip('\\n').strip()\n",
    "        except:\n",
    "            runtime=np.NaN\n",
    "        try:\n",
    "            box_office=list_info[-3].get_text().strip('\\n')\n",
    "        except:\n",
    "            box_office=np.NaN\n",
    "\n",
    "        try:\n",
    "            cast_list=python_data.find('div',class_=\"castSection\").find_all('a',class_='unstyled articleLink')\n",
    "            cast=[cast.get_text().strip('\\n').strip() for cast in cast_list]\n",
    "        except:\n",
    "            cast=np.NaN\n",
    "            \n",
    "        list_movie_info.append([movie_name,meter_score,audience_score,rating,genre,cast,director,time,studio,runtime,box_office,movie_synopsis])    \n",
    "    return list_movie_info"
   ]
  },
  {
   "cell_type": "code",
   "execution_count": null,
   "metadata": {},
   "outputs": [],
   "source": [
    "link_2000_2009=get_links(2000,2010)\n",
    "link_2010_2018=get_links(2010,2019)"
   ]
  },
  {
   "cell_type": "code",
   "execution_count": null,
   "metadata": {},
   "outputs": [],
   "source": [
    "movie_2000_2009=get_movie(link_2000_2009)\n",
    "df = pd.DataFrame(movie_2000_2009)\n",
    "df.columns= ['name','meter_score','audience_score','rating','genre','cast',\n",
    "             'director','time','studio','runtime','box_office','movie_synopsis']"
   ]
  },
  {
   "cell_type": "code",
   "execution_count": null,
   "metadata": {},
   "outputs": [],
   "source": [
    "movie_2010_2018=get_movie(link_2010_2018)\n",
    "df_ = pd.DataFrame(movie_2010_2018)\n",
    "df_.columns=['name','meter_score','audience_score','rating','genre','cast',\n",
    "             'director','time','studio','runtime','box_office','movie_synopsis']"
   ]
  },
  {
   "cell_type": "code",
   "execution_count": null,
   "metadata": {},
   "outputs": [],
   "source": [
    "df_movie=pd.concat([df_, df], ignore_index=True)\n",
    "\n",
    "df_movie_=df_movie.drop_duplicates(subset='movie_synopsis', keep='first', inplace=False)\n",
    "df_movie_.set_index('name',inplace=True)"
   ]
  },
  {
   "cell_type": "code",
   "execution_count": null,
   "metadata": {},
   "outputs": [],
   "source": [
    "df.to_csv('raw_data.csv')"
   ]
  },
  {
   "cell_type": "markdown",
   "metadata": {},
   "source": [
    "## Scraping actor scores"
   ]
  },
  {
   "cell_type": "code",
   "execution_count": null,
   "metadata": {},
   "outputs": [],
   "source": [
    "big_list=[]\n",
    "for i in range(1,11):\n",
    "    \n",
    "    url = \"https://www.imdb.com/list/ls058011111/?sort=list_order,asc&mode=grid&page=%s&ref_=nmls_vw_grd\"%(i)\n",
    "    html_data = requests.get(url)\n",
    "    if html_data.status_code == 200:\n",
    "        python_data = BeautifulSoup(html_data.content,'lxml')\n",
    "    actor_tag=python_data.find_all('div',class_=\"lister-item mode-grid\")\n",
    "    \n",
    "    \n",
    "    for i in actor_tag:\n",
    "        small_list=[1,2]\n",
    "        actor_rank=i.find('div',class_=\"title\").find('span').get_text()[:-1]\n",
    "        actor_name=i.find('div',class_=\"title\").find('a').get_text()\n",
    "        small_list[0]=actor_rank[:-1].strip(',')\n",
    "        small_list[1]=actor_name.strip('\\n')\n",
    "        big_list.append(small_list)"
   ]
  },
  {
   "cell_type": "code",
   "execution_count": null,
   "metadata": {},
   "outputs": [],
   "source": [
    "df = pd.DataFrame(big_list)\n",
    "df.columns=['rank','actor']\n",
    "df['actor_score']=df['rank'].copy()\n",
    "df['actor_score']=df['actor_score'].apply(lambda x: 100-int(x)//10)\n",
    "df.to_csv('actor_score.csv')"
   ]
  },
  {
   "cell_type": "markdown",
   "metadata": {},
   "source": [
    "## Scraping movie reviews"
   ]
  },
  {
   "cell_type": "code",
   "execution_count": 1,
   "metadata": {},
   "outputs": [],
   "source": [
    "def get_review(link):               #returns all top critic reviews for one movie\n",
    "    link = link\n",
    "    response = requests.get(link)\n",
    "    review_collection = []\n",
    "    if response.status_code == 200:\n",
    "        try:\n",
    "            result_page = BeautifulSoup(response.content,'lxml')\n",
    "            all_review = result_page.find('div',class_='review_table').find_all('div',class_='the_review')\n",
    "            for review in all_review:\n",
    "                review_collection.append(review.get_text())\n",
    "        except:\n",
    "            return get_review(link)\n",
    "    return review_collection"
   ]
  },
  {
   "cell_type": "code",
   "execution_count": 2,
   "metadata": {},
   "outputs": [],
   "source": [
    "def get_movie_review(link,year,name):       #returns reviews of all top movies for one year\n",
    "    \n",
    "    response1 = requests.get(link)\n",
    "    if response1.status_code == 200:\n",
    "        result_page1 = BeautifulSoup(response1.content,'lxml')\n",
    "        body = result_page1.find('section', id=\"contentReviews\")\n",
    "        try:\n",
    "            sibody = body.find('a',class_='small unstyled subtle articleLink')\n",
    "            siibody = sibody.next_sibling.next_sibling.get('href')\n",
    "            link = 'https://www.rottentomatoes.com' + siibody\n",
    "\n",
    "        except:\n",
    "            return get_movie_review(link,year,name)\n",
    "            \n",
    "            \n",
    "        \n",
    "        review_collection = get_review(link)\n",
    "        review = [name, year, review_collection]\n",
    "\n",
    "    return review"
   ]
  },
  {
   "cell_type": "code",
   "execution_count": null,
   "metadata": {},
   "outputs": [],
   "source": [
    "all_reviews = []\n",
    "for year in range(2014,2019):                     #getting 5 years of reviews\n",
    "    page_link = 'https://www.rottentomatoes.com/top/bestofrt/?year='+str(year)\n",
    "    init_response = requests.get(page_link)\n",
    "    if init_response.status_code == 200:\n",
    "        topmovie_page = BeautifulSoup(init_response.content,'lxml')\n",
    "        movie_link_list= topmovie_page.find('table',class_='table').find_all('a',class_=\"unstyled articleLink\" )\n",
    "        for movie in movie_link_list:\n",
    "            movie_link = 'http://www.rottentomatoes.com' + movie.get('href')\n",
    "            movie_name = movie.get_text()[13:-7]      \n",
    "            #time.sleep(2)\n",
    "            review = get_movie_review(movie_link,year,movie_name)\n",
    "            all_reviews.append(review)"
   ]
  },
  {
   "cell_type": "code",
   "execution_count": null,
   "metadata": {},
   "outputs": [],
   "source": [
    "import csv\n",
    "with open(\"all_reviews.csv\", \"w\") as f:\n",
    "    writer = csv.writer(f)\n",
    "    writer.writerow(['Movie_Name','Year','Reviews'])\n",
    "    writer.writerows(all_reviews)"
   ]
  },
  {
   "cell_type": "markdown",
   "metadata": {},
   "source": [
    "# Data preprocessing"
   ]
  },
  {
   "cell_type": "code",
   "execution_count": 3,
   "metadata": {},
   "outputs": [],
   "source": [
    "import pandas as pd\n",
    "import numpy as np\n",
    "import re\n",
    "import math\n",
    "from datetime import datetime"
   ]
  },
  {
   "cell_type": "code",
   "execution_count": 5,
   "metadata": {},
   "outputs": [
    {
     "data": {
      "text/html": [
       "<div>\n",
       "<style scoped>\n",
       "    .dataframe tbody tr th:only-of-type {\n",
       "        vertical-align: middle;\n",
       "    }\n",
       "\n",
       "    .dataframe tbody tr th {\n",
       "        vertical-align: top;\n",
       "    }\n",
       "\n",
       "    .dataframe thead th {\n",
       "        text-align: right;\n",
       "    }\n",
       "</style>\n",
       "<table border=\"1\" class=\"dataframe\">\n",
       "  <thead>\n",
       "    <tr style=\"text-align: right;\">\n",
       "      <th></th>\n",
       "      <th>name</th>\n",
       "      <th>meter_score</th>\n",
       "      <th>audience_score</th>\n",
       "      <th>rating</th>\n",
       "      <th>genre</th>\n",
       "      <th>cast</th>\n",
       "      <th>director</th>\n",
       "      <th>time</th>\n",
       "      <th>studio</th>\n",
       "      <th>runtime</th>\n",
       "      <th>box_office</th>\n",
       "      <th>movie_synopsis</th>\n",
       "    </tr>\n",
       "  </thead>\n",
       "  <tbody>\n",
       "    <tr>\n",
       "      <th>0</th>\n",
       "      <td>Toy Story 3</td>\n",
       "      <td>98</td>\n",
       "      <td>89%</td>\n",
       "      <td>G</td>\n",
       "      <td>['Animation', 'Comedy', 'Kids &amp; Family', 'Scie...</td>\n",
       "      <td>['Tom Hanks', 'Tim Allen', 'Joan Cusack', 'Ned...</td>\n",
       "      <td>Lee Unkrich</td>\n",
       "      <td>Jun 18, 2010</td>\n",
       "      <td>Walt Disney Pictures</td>\n",
       "      <td>103 minutes</td>\n",
       "      <td>$414,984,497</td>\n",
       "      <td>\"Toy Story 3\" welcomes Woody, Buzz and the who...</td>\n",
       "    </tr>\n",
       "    <tr>\n",
       "      <th>1</th>\n",
       "      <td>True Grit</td>\n",
       "      <td>96</td>\n",
       "      <td>85%</td>\n",
       "      <td>PG-13 (for some intense sequences of western v...</td>\n",
       "      <td>['Action &amp; Adventure', 'Drama', 'Western']</td>\n",
       "      <td>['Hailee Steinfeld', 'Jeff Bridges', 'Matt Dam...</td>\n",
       "      <td>Joel Coen, \\n                             \\n  ...</td>\n",
       "      <td>Dec 22, 2010</td>\n",
       "      <td>Paramount Pictures</td>\n",
       "      <td>110 minutes</td>\n",
       "      <td>$171,031,347</td>\n",
       "      <td>Fourteen-year-old Mattie Ross (Hailee Steinfel...</td>\n",
       "    </tr>\n",
       "    <tr>\n",
       "      <th>2</th>\n",
       "      <td>How to Train Your Dragon</td>\n",
       "      <td>98</td>\n",
       "      <td>91%</td>\n",
       "      <td>PG (for sequences of intense action and some s...</td>\n",
       "      <td>['Animation', 'Kids &amp; Family', 'Science Fictio...</td>\n",
       "      <td>['Jay Baruchel', 'Gerard Butler', 'Craig Fergu...</td>\n",
       "      <td>Dean DeBlois, Chris Sanders</td>\n",
       "      <td>Mar 26, 2010</td>\n",
       "      <td>Paramount/DWA</td>\n",
       "      <td>98 minutes</td>\n",
       "      <td>$216,900,000</td>\n",
       "      <td>The son of a Viking chief must capture a drago...</td>\n",
       "    </tr>\n",
       "    <tr>\n",
       "      <th>3</th>\n",
       "      <td>The King's Speech</td>\n",
       "      <td>95</td>\n",
       "      <td>92%</td>\n",
       "      <td>PG-13 (for some language)</td>\n",
       "      <td>['Drama']</td>\n",
       "      <td>['Colin Firth', 'Helena Bonham Carter', 'Geoff...</td>\n",
       "      <td>Tom Hooper</td>\n",
       "      <td>Nov 26, 2010</td>\n",
       "      <td>The Weinstein Company</td>\n",
       "      <td>118 minutes</td>\n",
       "      <td>$138,300,000</td>\n",
       "      <td>After the death of his father King George V (M...</td>\n",
       "    </tr>\n",
       "    <tr>\n",
       "      <th>4</th>\n",
       "      <td>Inside Job</td>\n",
       "      <td>98</td>\n",
       "      <td>91%</td>\n",
       "      <td>PG-13 (for some drug and sex-related material)</td>\n",
       "      <td>['Documentary', 'Special Interest']</td>\n",
       "      <td>['Matt Damon', 'William Ackman', 'Daniel Alper...</td>\n",
       "      <td>Charles Ferguson (III)</td>\n",
       "      <td>Oct 8, 2010</td>\n",
       "      <td>Sony Pictures Classics</td>\n",
       "      <td>108 minutes</td>\n",
       "      <td>$4,311,834</td>\n",
       "      <td>From Academy Award (R) nominated filmmaker, Ch...</td>\n",
       "    </tr>\n",
       "  </tbody>\n",
       "</table>\n",
       "</div>"
      ],
      "text/plain": [
       "                       name  meter_score audience_score  \\\n",
       "0               Toy Story 3           98            89%   \n",
       "1                 True Grit           96            85%   \n",
       "2  How to Train Your Dragon           98            91%   \n",
       "3         The King's Speech           95            92%   \n",
       "4                Inside Job           98            91%   \n",
       "\n",
       "                                              rating  \\\n",
       "0                                                  G   \n",
       "1  PG-13 (for some intense sequences of western v...   \n",
       "2  PG (for sequences of intense action and some s...   \n",
       "3                          PG-13 (for some language)   \n",
       "4     PG-13 (for some drug and sex-related material)   \n",
       "\n",
       "                                               genre  \\\n",
       "0  ['Animation', 'Comedy', 'Kids & Family', 'Scie...   \n",
       "1         ['Action & Adventure', 'Drama', 'Western']   \n",
       "2  ['Animation', 'Kids & Family', 'Science Fictio...   \n",
       "3                                          ['Drama']   \n",
       "4                ['Documentary', 'Special Interest']   \n",
       "\n",
       "                                                cast  \\\n",
       "0  ['Tom Hanks', 'Tim Allen', 'Joan Cusack', 'Ned...   \n",
       "1  ['Hailee Steinfeld', 'Jeff Bridges', 'Matt Dam...   \n",
       "2  ['Jay Baruchel', 'Gerard Butler', 'Craig Fergu...   \n",
       "3  ['Colin Firth', 'Helena Bonham Carter', 'Geoff...   \n",
       "4  ['Matt Damon', 'William Ackman', 'Daniel Alper...   \n",
       "\n",
       "                                            director          time  \\\n",
       "0                                        Lee Unkrich  Jun 18, 2010   \n",
       "1  Joel Coen, \\n                             \\n  ...  Dec 22, 2010   \n",
       "2                        Dean DeBlois, Chris Sanders  Mar 26, 2010   \n",
       "3                                         Tom Hooper  Nov 26, 2010   \n",
       "4                            Charles Ferguson (III)    Oct 8, 2010   \n",
       "\n",
       "                   studio      runtime    box_office  \\\n",
       "0    Walt Disney Pictures  103 minutes  $414,984,497   \n",
       "1      Paramount Pictures  110 minutes  $171,031,347   \n",
       "2           Paramount/DWA   98 minutes  $216,900,000   \n",
       "3   The Weinstein Company  118 minutes  $138,300,000   \n",
       "4  Sony Pictures Classics  108 minutes    $4,311,834   \n",
       "\n",
       "                                      movie_synopsis  \n",
       "0  \"Toy Story 3\" welcomes Woody, Buzz and the who...  \n",
       "1  Fourteen-year-old Mattie Ross (Hailee Steinfel...  \n",
       "2  The son of a Viking chief must capture a drago...  \n",
       "3  After the death of his father King George V (M...  \n",
       "4  From Academy Award (R) nominated filmmaker, Ch...  "
      ]
     },
     "execution_count": 5,
     "metadata": {},
     "output_type": "execute_result"
    }
   ],
   "source": [
    "filename = 'raw_data.csv'\n",
    "df_origin = pd.read_csv(filename)\n",
    "df_origin.head()"
   ]
  },
  {
   "cell_type": "markdown",
   "metadata": {},
   "source": [
    "## Clean data"
   ]
  },
  {
   "cell_type": "markdown",
   "metadata": {},
   "source": [
    "### examine null value"
   ]
  },
  {
   "cell_type": "code",
   "execution_count": 6,
   "metadata": {},
   "outputs": [
    {
     "data": {
      "text/plain": [
       "1.0"
      ]
     },
     "execution_count": 6,
     "metadata": {},
     "output_type": "execute_result"
    }
   ],
   "source": [
    "df = df_origin.dropna(axis=0,how='all')\n",
    "len(df) / len(df_origin)"
   ]
  },
  {
   "cell_type": "markdown",
   "metadata": {},
   "source": [
    "### examine and convert data types"
   ]
  },
  {
   "cell_type": "code",
   "execution_count": 4,
   "metadata": {},
   "outputs": [
    {
     "name": "stdout",
     "output_type": "stream",
     "text": [
      "count    1735.000000\n",
      "mean       88.605187\n",
      "std         7.329474\n",
      "min        57.000000\n",
      "25%        84.000000\n",
      "50%        90.000000\n",
      "75%        94.000000\n",
      "max       100.000000\n",
      "Name: meter_score, dtype: float64\n"
     ]
    }
   ],
   "source": [
    "print(df['meter_score'].describe())\n",
    "# meter_score is in integer type\n",
    "# no outliner"
   ]
  },
  {
   "cell_type": "code",
   "execution_count": 8,
   "metadata": {},
   "outputs": [
    {
     "name": "stdout",
     "output_type": "stream",
     "text": [
      "count     1735\n",
      "unique      62\n",
      "top        86%\n",
      "freq        84\n",
      "Name: audience_score, dtype: object\n"
     ]
    }
   ],
   "source": [
    "print(df['audience_score'].describe())\n",
    "# audience_score is in str type\n",
    "\n",
    "# convert audience_score from str into float for convience\n",
    "df['audience_score'] = df['audience_score'].apply(lambda x: int(x[:-1]))"
   ]
  },
  {
   "cell_type": "markdown",
   "metadata": {},
   "source": [
    "### set rating column as categorical data"
   ]
  },
  {
   "cell_type": "code",
   "execution_count": 6,
   "metadata": {},
   "outputs": [],
   "source": [
    "# set ratting column as categorical data, delete the explanation of genre in the braket\n",
    "def set_rating(pattern, string):\n",
    "    res = re.match(pattern,string)\n",
    "    return res.group()\n",
    "\n",
    "pattern = r'[\\w-]+'\n",
    "df['rating'] = df['rating'].apply(lambda x: set_rating(pattern,x))"
   ]
  },
  {
   "cell_type": "markdown",
   "metadata": {},
   "source": [
    "### set genre as string"
   ]
  },
  {
   "cell_type": "code",
   "execution_count": 7,
   "metadata": {},
   "outputs": [],
   "source": [
    "# remove the '[]'  outside the genre\n",
    "df['genre'] = df['genre'].apply(lambda x: x[1:-1])"
   ]
  },
  {
   "cell_type": "markdown",
   "metadata": {},
   "source": [
    "### set cast as string"
   ]
  },
  {
   "cell_type": "code",
   "execution_count": 8,
   "metadata": {},
   "outputs": [],
   "source": [
    "# remove the '[]' outside the cast \n",
    "def set_cast(string):\n",
    "    try:\n",
    "        if math.isnan(string):\n",
    "            return 'nan'\n",
    "    except:\n",
    "        return string[1:-1][:-11]\n",
    "\n",
    "df['cast'] = df['cast'].apply(lambda x: set_cast(x))"
   ]
  },
  {
   "cell_type": "markdown",
   "metadata": {},
   "source": [
    "### clean cast data"
   ]
  },
  {
   "cell_type": "code",
   "execution_count": 9,
   "metadata": {},
   "outputs": [],
   "source": [
    "# delete non-name elements in the list\n",
    "df['cast'] = df['cast'].apply(lambda x: x[:-1])"
   ]
  },
  {
   "cell_type": "markdown",
   "metadata": {},
   "source": [
    "### clean director column"
   ]
  },
  {
   "cell_type": "code",
   "execution_count": 10,
   "metadata": {},
   "outputs": [],
   "source": [
    "def set_director(string):\n",
    "    l = str(string).strip().split(',')\n",
    "    for i in range(len(l)):\n",
    "        if len(l[i])>20:\n",
    "            l[i] = l[i].strip()\n",
    "    return str(l)[1:-1]\n",
    "\n",
    "df['director'] = df['director'].apply(lambda x: set_director(x))\n",
    "# df['director'] = df['director'].apply(lambda x:x[1:-1])"
   ]
  },
  {
   "cell_type": "markdown",
   "metadata": {},
   "source": [
    "### reset time column"
   ]
  },
  {
   "cell_type": "code",
   "execution_count": 11,
   "metadata": {},
   "outputs": [],
   "source": [
    "# convert time from str into datetime type\n",
    "# clean unformatted records\n",
    "def set_date(string):\n",
    "    try:\n",
    "        if math.isnan(string):\n",
    "            return None\n",
    "    except:\n",
    "        if len(string)<40:\n",
    "            return datetime.strptime(string,\"%b %d, %Y\")\n",
    "        else:\n",
    "            return None\n",
    "\n",
    "df['time'] = df['time'].apply(lambda x: set_date(x))"
   ]
  },
  {
   "cell_type": "markdown",
   "metadata": {},
   "source": [
    "### drop empty time records"
   ]
  },
  {
   "cell_type": "code",
   "execution_count": 12,
   "metadata": {},
   "outputs": [
    {
     "name": "stdout",
     "output_type": "stream",
     "text": [
      "23\n"
     ]
    }
   ],
   "source": [
    "print(len(df[df['time'].isnull()]))\n",
    "df = df[~df['time'].isnull()]"
   ]
  },
  {
   "cell_type": "markdown",
   "metadata": {},
   "source": [
    "### clean studio column"
   ]
  },
  {
   "cell_type": "code",
   "execution_count": 13,
   "metadata": {},
   "outputs": [],
   "source": [
    "# convert studio from str into list\n",
    "# clean unformatted records\n",
    "df['studio'] = df['studio'].apply(lambda x: str(x.strip().split('/'))[1:-1])"
   ]
  },
  {
   "cell_type": "code",
   "execution_count": 14,
   "metadata": {},
   "outputs": [
    {
     "name": "stdout",
     "output_type": "stream",
     "text": [
      "'Paramount Pictures'\n",
      "'Paramount', 'DWA'\n"
     ]
    }
   ],
   "source": [
    "# some studio names are abbreviations\n",
    "# be careful!\n",
    "print(df['studio'][1])\n",
    "print(df['studio'][2])"
   ]
  },
  {
   "cell_type": "markdown",
   "metadata": {},
   "source": [
    "### reset runtime column"
   ]
  },
  {
   "cell_type": "code",
   "execution_count": 15,
   "metadata": {},
   "outputs": [],
   "source": [
    "df['runtime'] = df['runtime'].apply(lambda x: x[:-8])"
   ]
  },
  {
   "cell_type": "markdown",
   "metadata": {},
   "source": [
    "### reset boxoffice column"
   ]
  },
  {
   "cell_type": "code",
   "execution_count": 16,
   "metadata": {},
   "outputs": [],
   "source": [
    "# clean unformatted boxoffice records\n",
    "def set_boxoffice(string):\n",
    "    try:\n",
    "        if string[0]=='$':\n",
    "            return int(string[1:].replace(',',''))\n",
    "    except:\n",
    "        return np.NaN\n",
    "\n",
    "df['box_office'] = df['box_office'].apply(lambda x: set_boxoffice(x))"
   ]
  },
  {
   "cell_type": "code",
   "execution_count": 17,
   "metadata": {},
   "outputs": [],
   "source": [
    "# delete NaN boxoffice records\n",
    "df = df[~df['box_office'].isnull()]"
   ]
  },
  {
   "cell_type": "markdown",
   "metadata": {},
   "source": [
    "## Add features"
   ]
  },
  {
   "cell_type": "markdown",
   "metadata": {},
   "source": [
    "### add actor scores"
   ]
  },
  {
   "cell_type": "code",
   "execution_count": 18,
   "metadata": {},
   "outputs": [],
   "source": [
    "df_actor = pd.read_csv('actor_score.csv')\n",
    "\n",
    "actor_dic = dict()\n",
    "actor_score = []\n",
    "\n",
    "for ele in df_actor[['actor','actor_score']].values:\n",
    "    key = ele[0][1:]\n",
    "    value = ele[1]\n",
    "    actor_dic[key] = value\n",
    "\n",
    "for casts in df['cast']:\n",
    "    score = 0\n",
    "    cast_list = casts.split(', ')\n",
    "    for cast in cast_list:\n",
    "        score += actor_dic.get(cast[1:-1],0)\n",
    "    actor_score.append(score)\n",
    "\n",
    "df['actor_score'] = np.array(actor_score)"
   ]
  },
  {
   "cell_type": "markdown",
   "metadata": {},
   "source": [
    "### add director scores"
   ]
  },
  {
   "cell_type": "code",
   "execution_count": 19,
   "metadata": {},
   "outputs": [],
   "source": [
    "df_director = pd.read_csv('director_score_new.csv')\n",
    "\n",
    "director_dic = dict()\n",
    "director_score = []\n",
    "\n",
    "for ele in df_director[['director','score']].values:\n",
    "    key = ele[0]\n",
    "    value = ele[1]\n",
    "    director_dic[key] = value\n",
    "    \n",
    "for directors in df['director']:\n",
    "    score = 0\n",
    "    director_list = directors.split(', ')\n",
    "    for director in director_list:\n",
    "        director_name = director if director[1]!=' ' else str(\"\\'\"+director[2:-1]+\"\\'\")\n",
    "        name = director_name\n",
    "        score += director_dic.get(director_name[1:-1],0)\n",
    "    director_score.append(round(score/len(director_list)))\n",
    "\n",
    "df['director_score'] = np.array(director_score)"
   ]
  },
  {
   "cell_type": "markdown",
   "metadata": {},
   "source": [
    "## save update dataframe"
   ]
  },
  {
   "cell_type": "code",
   "execution_count": 23,
   "metadata": {},
   "outputs": [
    {
     "data": {
      "text/html": [
       "<div>\n",
       "<style scoped>\n",
       "    .dataframe tbody tr th:only-of-type {\n",
       "        vertical-align: middle;\n",
       "    }\n",
       "\n",
       "    .dataframe tbody tr th {\n",
       "        vertical-align: top;\n",
       "    }\n",
       "\n",
       "    .dataframe thead th {\n",
       "        text-align: right;\n",
       "    }\n",
       "</style>\n",
       "<table border=\"1\" class=\"dataframe\">\n",
       "  <thead>\n",
       "    <tr style=\"text-align: right;\">\n",
       "      <th></th>\n",
       "      <th>name</th>\n",
       "      <th>meter_score</th>\n",
       "      <th>audience_score</th>\n",
       "      <th>rating</th>\n",
       "      <th>genre</th>\n",
       "      <th>cast</th>\n",
       "      <th>director</th>\n",
       "      <th>time</th>\n",
       "      <th>studio</th>\n",
       "      <th>runtime</th>\n",
       "      <th>box_office</th>\n",
       "      <th>movie_synopsis</th>\n",
       "      <th>actor_score</th>\n",
       "      <th>director_score</th>\n",
       "    </tr>\n",
       "  </thead>\n",
       "  <tbody>\n",
       "    <tr>\n",
       "      <th>0</th>\n",
       "      <td>Toy Story 3</td>\n",
       "      <td>98</td>\n",
       "      <td>89</td>\n",
       "      <td>G</td>\n",
       "      <td>'Animation', 'Comedy', 'Kids &amp; Family', 'Scien...</td>\n",
       "      <td>'Tom Hanks', 'Tim Allen', 'Joan Cusack', 'Ned ...</td>\n",
       "      <td>'Lee Unkrich'</td>\n",
       "      <td>2010-06-18</td>\n",
       "      <td>'Walt Disney Pictures'</td>\n",
       "      <td>103</td>\n",
       "      <td>414984497.0</td>\n",
       "      <td>\"Toy Story 3\" welcomes Woody, Buzz and the who...</td>\n",
       "      <td>233</td>\n",
       "      <td>138</td>\n",
       "    </tr>\n",
       "    <tr>\n",
       "      <th>1</th>\n",
       "      <td>True Grit</td>\n",
       "      <td>96</td>\n",
       "      <td>85</td>\n",
       "      <td>PG-13</td>\n",
       "      <td>'Action &amp; Adventure', 'Drama', 'Western'</td>\n",
       "      <td>'Hailee Steinfeld', 'Jeff Bridges', 'Matt Damo...</td>\n",
       "      <td>'Joel Coen', 'Ethan Coen'</td>\n",
       "      <td>2010-12-22</td>\n",
       "      <td>'Paramount Pictures'</td>\n",
       "      <td>110</td>\n",
       "      <td>171031347.0</td>\n",
       "      <td>Fourteen-year-old Mattie Ross (Hailee Steinfel...</td>\n",
       "      <td>273</td>\n",
       "      <td>0</td>\n",
       "    </tr>\n",
       "    <tr>\n",
       "      <th>2</th>\n",
       "      <td>How to Train Your Dragon</td>\n",
       "      <td>98</td>\n",
       "      <td>91</td>\n",
       "      <td>PG</td>\n",
       "      <td>'Animation', 'Kids &amp; Family', 'Science Fiction...</td>\n",
       "      <td>'Jay Baruchel', 'Gerard Butler', 'Craig Fergus...</td>\n",
       "      <td>'Dean DeBlois', ' Chris Sanders'</td>\n",
       "      <td>2010-03-26</td>\n",
       "      <td>'Paramount', 'DWA'</td>\n",
       "      <td>98</td>\n",
       "      <td>216900000.0</td>\n",
       "      <td>The son of a Viking chief must capture a drago...</td>\n",
       "      <td>191</td>\n",
       "      <td>0</td>\n",
       "    </tr>\n",
       "    <tr>\n",
       "      <th>3</th>\n",
       "      <td>The King's Speech</td>\n",
       "      <td>95</td>\n",
       "      <td>92</td>\n",
       "      <td>PG-13</td>\n",
       "      <td>'Drama'</td>\n",
       "      <td>'Colin Firth', 'Helena Bonham Carter', 'Geoffr...</td>\n",
       "      <td>'Tom Hooper'</td>\n",
       "      <td>2010-11-26</td>\n",
       "      <td>'The Weinstein Company'</td>\n",
       "      <td>118</td>\n",
       "      <td>138300000.0</td>\n",
       "      <td>After the death of his father King George V (M...</td>\n",
       "      <td>281</td>\n",
       "      <td>403</td>\n",
       "    </tr>\n",
       "    <tr>\n",
       "      <th>4</th>\n",
       "      <td>Inside Job</td>\n",
       "      <td>98</td>\n",
       "      <td>91</td>\n",
       "      <td>PG-13</td>\n",
       "      <td>'Documentary', 'Special Interest'</td>\n",
       "      <td>'Matt Damon', 'William Ackman', 'Daniel Alpert...</td>\n",
       "      <td>'Charles Ferguson (III)'</td>\n",
       "      <td>2010-10-08</td>\n",
       "      <td>'Sony Pictures Classics'</td>\n",
       "      <td>108</td>\n",
       "      <td>4311834.0</td>\n",
       "      <td>From Academy Award (R) nominated filmmaker, Ch...</td>\n",
       "      <td>95</td>\n",
       "      <td>0</td>\n",
       "    </tr>\n",
       "  </tbody>\n",
       "</table>\n",
       "</div>"
      ],
      "text/plain": [
       "                       name  meter_score  audience_score rating  \\\n",
       "0               Toy Story 3           98              89      G   \n",
       "1                 True Grit           96              85  PG-13   \n",
       "2  How to Train Your Dragon           98              91     PG   \n",
       "3         The King's Speech           95              92  PG-13   \n",
       "4                Inside Job           98              91  PG-13   \n",
       "\n",
       "                                               genre  \\\n",
       "0  'Animation', 'Comedy', 'Kids & Family', 'Scien...   \n",
       "1           'Action & Adventure', 'Drama', 'Western'   \n",
       "2  'Animation', 'Kids & Family', 'Science Fiction...   \n",
       "3                                            'Drama'   \n",
       "4                  'Documentary', 'Special Interest'   \n",
       "\n",
       "                                                cast  \\\n",
       "0  'Tom Hanks', 'Tim Allen', 'Joan Cusack', 'Ned ...   \n",
       "1  'Hailee Steinfeld', 'Jeff Bridges', 'Matt Damo...   \n",
       "2  'Jay Baruchel', 'Gerard Butler', 'Craig Fergus...   \n",
       "3  'Colin Firth', 'Helena Bonham Carter', 'Geoffr...   \n",
       "4  'Matt Damon', 'William Ackman', 'Daniel Alpert...   \n",
       "\n",
       "                           director       time                    studio  \\\n",
       "0                     'Lee Unkrich' 2010-06-18    'Walt Disney Pictures'   \n",
       "1         'Joel Coen', 'Ethan Coen' 2010-12-22      'Paramount Pictures'   \n",
       "2  'Dean DeBlois', ' Chris Sanders' 2010-03-26        'Paramount', 'DWA'   \n",
       "3                      'Tom Hooper' 2010-11-26   'The Weinstein Company'   \n",
       "4          'Charles Ferguson (III)' 2010-10-08  'Sony Pictures Classics'   \n",
       "\n",
       "  runtime   box_office                                     movie_synopsis  \\\n",
       "0     103  414984497.0  \"Toy Story 3\" welcomes Woody, Buzz and the who...   \n",
       "1     110  171031347.0  Fourteen-year-old Mattie Ross (Hailee Steinfel...   \n",
       "2      98  216900000.0  The son of a Viking chief must capture a drago...   \n",
       "3     118  138300000.0  After the death of his father King George V (M...   \n",
       "4     108    4311834.0  From Academy Award (R) nominated filmmaker, Ch...   \n",
       "\n",
       "   actor_score  director_score  \n",
       "0          233             138  \n",
       "1          273               0  \n",
       "2          191               0  \n",
       "3          281             403  \n",
       "4           95               0  "
      ]
     },
     "execution_count": 23,
     "metadata": {},
     "output_type": "execute_result"
    }
   ],
   "source": [
    "df.head()"
   ]
  },
  {
   "cell_type": "code",
   "execution_count": 25,
   "metadata": {},
   "outputs": [],
   "source": [
    "df.to_csv('cleaned_data.csv')"
   ]
  }
 ],
 "metadata": {
  "kernelspec": {
   "display_name": "Python 3",
   "language": "python",
   "name": "python3"
  },
  "language_info": {
   "codemirror_mode": {
    "name": "ipython",
    "version": 3
   },
   "file_extension": ".py",
   "mimetype": "text/x-python",
   "name": "python",
   "nbconvert_exporter": "python",
   "pygments_lexer": "ipython3",
   "version": "3.6.5"
  },
  "toc": {
   "base_numbering": 1,
   "nav_menu": {},
   "number_sections": true,
   "sideBar": true,
   "skip_h1_title": false,
   "title_cell": "Table of Contents",
   "title_sidebar": "Contents",
   "toc_cell": false,
   "toc_position": {
    "height": "calc(100% - 180px)",
    "left": "10px",
    "top": "150px",
    "width": "288px"
   },
   "toc_section_display": true,
   "toc_window_display": true
  }
 },
 "nbformat": 4,
 "nbformat_minor": 2
}
