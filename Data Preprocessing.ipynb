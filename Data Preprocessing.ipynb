{
 "cells": [
  {
   "cell_type": "markdown",
   "metadata": {},
   "source": [
    "### Data preprocessing"
   ]
  },
  {
   "cell_type": "code",
   "execution_count": 1,
   "metadata": {},
   "outputs": [],
   "source": [
    "import pandas as pd\n",
    "import numpy as np\n",
    "import re\n",
    "import math\n",
    "from datetime import datetime"
   ]
  },
  {
   "cell_type": "code",
   "execution_count": 2,
   "metadata": {},
   "outputs": [
    {
     "data": {
      "text/html": [
       "<div>\n",
       "<style scoped>\n",
       "    .dataframe tbody tr th:only-of-type {\n",
       "        vertical-align: middle;\n",
       "    }\n",
       "\n",
       "    .dataframe tbody tr th {\n",
       "        vertical-align: top;\n",
       "    }\n",
       "\n",
       "    .dataframe thead th {\n",
       "        text-align: right;\n",
       "    }\n",
       "</style>\n",
       "<table border=\"1\" class=\"dataframe\">\n",
       "  <thead>\n",
       "    <tr style=\"text-align: right;\">\n",
       "      <th></th>\n",
       "      <th>name</th>\n",
       "      <th>meter_score</th>\n",
       "      <th>audience_score</th>\n",
       "      <th>rating</th>\n",
       "      <th>genre</th>\n",
       "      <th>cast</th>\n",
       "      <th>director</th>\n",
       "      <th>time</th>\n",
       "      <th>studio</th>\n",
       "      <th>runtime</th>\n",
       "      <th>box_office</th>\n",
       "      <th>movie_synopsis</th>\n",
       "    </tr>\n",
       "  </thead>\n",
       "  <tbody>\n",
       "    <tr>\n",
       "      <th>0</th>\n",
       "      <td>Toy Story 3</td>\n",
       "      <td>98</td>\n",
       "      <td>89%</td>\n",
       "      <td>G</td>\n",
       "      <td>['Animation', 'Comedy', 'Kids &amp; Family', 'Scie...</td>\n",
       "      <td>['Tom Hanks', 'Tim Allen', 'Joan Cusack', 'Ned...</td>\n",
       "      <td>Lee Unkrich</td>\n",
       "      <td>Jun 18, 2010</td>\n",
       "      <td>Walt Disney Pictures</td>\n",
       "      <td>103 minutes</td>\n",
       "      <td>$414,984,497</td>\n",
       "      <td>\"Toy Story 3\" welcomes Woody, Buzz and the who...</td>\n",
       "    </tr>\n",
       "    <tr>\n",
       "      <th>1</th>\n",
       "      <td>True Grit</td>\n",
       "      <td>96</td>\n",
       "      <td>85%</td>\n",
       "      <td>PG-13 (for some intense sequences of western v...</td>\n",
       "      <td>['Action &amp; Adventure', 'Drama', 'Western']</td>\n",
       "      <td>['Hailee Steinfeld', 'Jeff Bridges', 'Matt Dam...</td>\n",
       "      <td>Joel Coen, \\n                             \\n  ...</td>\n",
       "      <td>Dec 22, 2010</td>\n",
       "      <td>Paramount Pictures</td>\n",
       "      <td>110 minutes</td>\n",
       "      <td>$171,031,347</td>\n",
       "      <td>Fourteen-year-old Mattie Ross (Hailee Steinfel...</td>\n",
       "    </tr>\n",
       "    <tr>\n",
       "      <th>2</th>\n",
       "      <td>How to Train Your Dragon</td>\n",
       "      <td>98</td>\n",
       "      <td>91%</td>\n",
       "      <td>PG (for sequences of intense action and some s...</td>\n",
       "      <td>['Animation', 'Kids &amp; Family', 'Science Fictio...</td>\n",
       "      <td>['Jay Baruchel', 'Gerard Butler', 'Craig Fergu...</td>\n",
       "      <td>Dean DeBlois, Chris Sanders</td>\n",
       "      <td>Mar 26, 2010</td>\n",
       "      <td>Paramount/DWA</td>\n",
       "      <td>98 minutes</td>\n",
       "      <td>$216,900,000</td>\n",
       "      <td>The son of a Viking chief must capture a drago...</td>\n",
       "    </tr>\n",
       "  </tbody>\n",
       "</table>\n",
       "</div>"
      ],
      "text/plain": [
       "                       name  meter_score audience_score  \\\n",
       "0               Toy Story 3           98            89%   \n",
       "1                 True Grit           96            85%   \n",
       "2  How to Train Your Dragon           98            91%   \n",
       "\n",
       "                                              rating  \\\n",
       "0                                                  G   \n",
       "1  PG-13 (for some intense sequences of western v...   \n",
       "2  PG (for sequences of intense action and some s...   \n",
       "\n",
       "                                               genre  \\\n",
       "0  ['Animation', 'Comedy', 'Kids & Family', 'Scie...   \n",
       "1         ['Action & Adventure', 'Drama', 'Western']   \n",
       "2  ['Animation', 'Kids & Family', 'Science Fictio...   \n",
       "\n",
       "                                                cast  \\\n",
       "0  ['Tom Hanks', 'Tim Allen', 'Joan Cusack', 'Ned...   \n",
       "1  ['Hailee Steinfeld', 'Jeff Bridges', 'Matt Dam...   \n",
       "2  ['Jay Baruchel', 'Gerard Butler', 'Craig Fergu...   \n",
       "\n",
       "                                            director          time  \\\n",
       "0                                        Lee Unkrich  Jun 18, 2010   \n",
       "1  Joel Coen, \\n                             \\n  ...  Dec 22, 2010   \n",
       "2                        Dean DeBlois, Chris Sanders  Mar 26, 2010   \n",
       "\n",
       "                 studio      runtime    box_office  \\\n",
       "0  Walt Disney Pictures  103 minutes  $414,984,497   \n",
       "1    Paramount Pictures  110 minutes  $171,031,347   \n",
       "2         Paramount/DWA   98 minutes  $216,900,000   \n",
       "\n",
       "                                      movie_synopsis  \n",
       "0  \"Toy Story 3\" welcomes Woody, Buzz and the who...  \n",
       "1  Fourteen-year-old Mattie Ross (Hailee Steinfel...  \n",
       "2  The son of a Viking chief must capture a drago...  "
      ]
     },
     "execution_count": 2,
     "metadata": {},
     "output_type": "execute_result"
    }
   ],
   "source": [
    "filename = 'Rotten_tomato_.csv'\n",
    "df_origin = pd.read_csv(filename)\n",
    "df_origin[:3]"
   ]
  },
  {
   "cell_type": "markdown",
   "metadata": {},
   "source": [
    "#### examine null value"
   ]
  },
  {
   "cell_type": "code",
   "execution_count": 3,
   "metadata": {},
   "outputs": [
    {
     "data": {
      "text/plain": [
       "1.0"
      ]
     },
     "execution_count": 3,
     "metadata": {},
     "output_type": "execute_result"
    }
   ],
   "source": [
    "df = df_origin.dropna(axis=0,how='all')\n",
    "len(df) / len(df_origin)"
   ]
  },
  {
   "cell_type": "markdown",
   "metadata": {},
   "source": [
    "#### examine and convert data types"
   ]
  },
  {
   "cell_type": "code",
   "execution_count": 4,
   "metadata": {},
   "outputs": [
    {
     "name": "stdout",
     "output_type": "stream",
     "text": [
      "count    1735.000000\n",
      "mean       88.605187\n",
      "std         7.329474\n",
      "min        57.000000\n",
      "25%        84.000000\n",
      "50%        90.000000\n",
      "75%        94.000000\n",
      "max       100.000000\n",
      "Name: meter_score, dtype: float64\n"
     ]
    }
   ],
   "source": [
    "print(df['meter_score'].describe())\n",
    "# meter_score is in integer type\n",
    "# no outliner"
   ]
  },
  {
   "cell_type": "code",
   "execution_count": 5,
   "metadata": {},
   "outputs": [
    {
     "name": "stdout",
     "output_type": "stream",
     "text": [
      "count     1735\n",
      "unique      62\n",
      "top        86%\n",
      "freq        84\n",
      "Name: audience_score, dtype: object\n"
     ]
    }
   ],
   "source": [
    "print(df['audience_score'].describe())\n",
    "# audience_score is in str type\n",
    "\n",
    "# convert audience_score from str into float for convience\n",
    "df['audience_score'] = df['audience_score'].apply(lambda x: int(x[:-1]))"
   ]
  },
  {
   "cell_type": "markdown",
   "metadata": {},
   "source": [
    "#### set rating column as categorical data"
   ]
  },
  {
   "cell_type": "code",
   "execution_count": 6,
   "metadata": {},
   "outputs": [],
   "source": [
    "# set ratting column as categorical data, delete the explanation of genre in the braket\n",
    "def set_rating(pattern, string):\n",
    "    res = re.match(pattern,string)\n",
    "    return res.group()\n",
    "\n",
    "pattern = r'[\\w-]+'\n",
    "df['rating'] = df['rating'].apply(lambda x: set_rating(pattern,x))"
   ]
  },
  {
   "cell_type": "markdown",
   "metadata": {},
   "source": [
    "#### set genre as a list of genres"
   ]
  },
  {
   "cell_type": "code",
   "execution_count": 7,
   "metadata": {},
   "outputs": [],
   "source": [
    "# convert genre from str into list\n",
    "def set_genre(string):\n",
    "    l = string[1:-1].strip().split(', ')\n",
    "    res = [x[1:-1] for x in l]\n",
    "    return res\n",
    "\n",
    "df['genre'] = df['genre'].apply(lambda x: set_genre(x))"
   ]
  },
  {
   "cell_type": "markdown",
   "metadata": {},
   "source": [
    "#### set cast as a list of casts"
   ]
  },
  {
   "cell_type": "code",
   "execution_count": 8,
   "metadata": {},
   "outputs": [],
   "source": [
    "# convert column from str into list\n",
    "def set_cast(string):\n",
    "    try:\n",
    "        if math.isnan(string):\n",
    "            return []\n",
    "    except:\n",
    "        l = string[1:-1].strip().split(', ')\n",
    "        res = [x[1:-1] for x in l]\n",
    "        return res\n",
    "\n",
    "df['cast'] = df['cast'].apply(lambda x: set_cast(x))"
   ]
  },
  {
   "cell_type": "markdown",
   "metadata": {},
   "source": [
    "#### clean cast data"
   ]
  },
  {
   "cell_type": "code",
   "execution_count": 9,
   "metadata": {},
   "outputs": [],
   "source": [
    "# delete non-name elements in the list\n",
    "df['cast'] = df['cast'].apply(lambda x: x[:-1])"
   ]
  },
  {
   "cell_type": "markdown",
   "metadata": {},
   "source": [
    "#### clean director column"
   ]
  },
  {
   "cell_type": "code",
   "execution_count": 10,
   "metadata": {},
   "outputs": [],
   "source": [
    "# convert director from str into list\n",
    "# clean unformatted data\n",
    "def set_director(string):\n",
    "    try:\n",
    "        if math.isnan(string):\n",
    "            return []\n",
    "    except:\n",
    "        res = string.strip().split(', ')\n",
    "        pattern = r'[\\s]+ ([A-Za-z ]+)'\n",
    "        for ele in res:\n",
    "            if len(ele)>50:\n",
    "                res.remove(ele)\n",
    "                match = re.match(pattern, ele)\n",
    "                res.append(match.groups()[0])\n",
    "    return res\n",
    "\n",
    "df['director'] = df['director'].apply(lambda x: set_director(x))"
   ]
  },
  {
   "cell_type": "markdown",
   "metadata": {},
   "source": [
    "#### reset time column"
   ]
  },
  {
   "cell_type": "code",
   "execution_count": 11,
   "metadata": {},
   "outputs": [],
   "source": [
    "# convert time from str into datetime type\n",
    "# clean unformatted records\n",
    "def set_date(string):\n",
    "    try:\n",
    "        if math.isnan(string):\n",
    "            return None\n",
    "    except:\n",
    "        if len(string)<40:\n",
    "            return datetime.strptime(string,\"%b %d, %Y\")\n",
    "        else:\n",
    "            return None\n",
    "\n",
    "df['time'] = df['time'].apply(lambda x: set_date(x))"
   ]
  },
  {
   "cell_type": "markdown",
   "metadata": {},
   "source": [
    "#### drop empty time records"
   ]
  },
  {
   "cell_type": "code",
   "execution_count": 12,
   "metadata": {},
   "outputs": [
    {
     "name": "stdout",
     "output_type": "stream",
     "text": [
      "23\n"
     ]
    }
   ],
   "source": [
    "print(len(df[df['time'].isnull()]))\n",
    "df = df[~df['time'].isnull()]"
   ]
  },
  {
   "cell_type": "markdown",
   "metadata": {},
   "source": [
    "#### clean studio column"
   ]
  },
  {
   "cell_type": "code",
   "execution_count": 13,
   "metadata": {},
   "outputs": [],
   "source": [
    "# convert studio from str into list\n",
    "# clean unformatted records\n",
    "df['studio'] = df['studio'].apply(lambda x: x.strip().split('/'))"
   ]
  },
  {
   "cell_type": "code",
   "execution_count": 14,
   "metadata": {},
   "outputs": [
    {
     "name": "stdout",
     "output_type": "stream",
     "text": [
      "['Paramount Pictures']\n",
      "['Paramount', 'DWA']\n"
     ]
    }
   ],
   "source": [
    "# some studio names are abbreviations\n",
    "# be careful!\n",
    "print(df['studio'][1])\n",
    "print(df['studio'][2])"
   ]
  },
  {
   "cell_type": "markdown",
   "metadata": {},
   "source": [
    "#### reset runtime column"
   ]
  },
  {
   "cell_type": "code",
   "execution_count": 15,
   "metadata": {},
   "outputs": [],
   "source": [
    "df['runtime'] = df['runtime'].apply(lambda x: x[:-8])"
   ]
  },
  {
   "cell_type": "markdown",
   "metadata": {},
   "source": [
    "#### reset boxoffice column"
   ]
  },
  {
   "cell_type": "code",
   "execution_count": 16,
   "metadata": {},
   "outputs": [],
   "source": [
    "# clean unformatted boxoffice records\n",
    "def set_boxoffice(string):\n",
    "    try:\n",
    "        if string[0]=='$':\n",
    "            return int(string[1:].replace(',',''))\n",
    "    except:\n",
    "        return np.NaN\n",
    "\n",
    "df['box_office'] = df['box_office'].apply(lambda x: set_boxoffice(x))"
   ]
  },
  {
   "cell_type": "code",
   "execution_count": 17,
   "metadata": {},
   "outputs": [],
   "source": [
    "# delete NaN boxoffice records\n",
    "df = df[~df['box_office'].isnull()]"
   ]
  },
  {
   "cell_type": "markdown",
   "metadata": {},
   "source": [
    "### preprocessed data"
   ]
  },
  {
   "cell_type": "code",
   "execution_count": 20,
   "metadata": {},
   "outputs": [
    {
     "data": {
      "text/html": [
       "<div>\n",
       "<style scoped>\n",
       "    .dataframe tbody tr th:only-of-type {\n",
       "        vertical-align: middle;\n",
       "    }\n",
       "\n",
       "    .dataframe tbody tr th {\n",
       "        vertical-align: top;\n",
       "    }\n",
       "\n",
       "    .dataframe thead th {\n",
       "        text-align: right;\n",
       "    }\n",
       "</style>\n",
       "<table border=\"1\" class=\"dataframe\">\n",
       "  <thead>\n",
       "    <tr style=\"text-align: right;\">\n",
       "      <th></th>\n",
       "      <th>name</th>\n",
       "      <th>meter_score</th>\n",
       "      <th>audience_score</th>\n",
       "      <th>rating</th>\n",
       "      <th>genre</th>\n",
       "      <th>cast</th>\n",
       "      <th>director</th>\n",
       "      <th>time</th>\n",
       "      <th>studio</th>\n",
       "      <th>runtime</th>\n",
       "      <th>box_office</th>\n",
       "      <th>movie_synopsis</th>\n",
       "    </tr>\n",
       "  </thead>\n",
       "  <tbody>\n",
       "    <tr>\n",
       "      <th>0</th>\n",
       "      <td>Toy Story 3</td>\n",
       "      <td>98</td>\n",
       "      <td>89</td>\n",
       "      <td>G</td>\n",
       "      <td>[Animation, Comedy, Kids &amp; Family, Science Fic...</td>\n",
       "      <td>[Tom Hanks, Tim Allen, Joan Cusack, Ned Beatty...</td>\n",
       "      <td>[Lee Unkrich]</td>\n",
       "      <td>2010-06-18</td>\n",
       "      <td>[Walt Disney Pictures]</td>\n",
       "      <td>103</td>\n",
       "      <td>414984497.0</td>\n",
       "      <td>\"Toy Story 3\" welcomes Woody, Buzz and the who...</td>\n",
       "    </tr>\n",
       "    <tr>\n",
       "      <th>1</th>\n",
       "      <td>True Grit</td>\n",
       "      <td>96</td>\n",
       "      <td>85</td>\n",
       "      <td>PG-13</td>\n",
       "      <td>[Action &amp; Adventure, Drama, Western]</td>\n",
       "      <td>[Hailee Steinfeld, Jeff Bridges, Matt Damon, J...</td>\n",
       "      <td>[Joel Coen, Ethan Coen]</td>\n",
       "      <td>2010-12-22</td>\n",
       "      <td>[Paramount Pictures]</td>\n",
       "      <td>110</td>\n",
       "      <td>171031347.0</td>\n",
       "      <td>Fourteen-year-old Mattie Ross (Hailee Steinfel...</td>\n",
       "    </tr>\n",
       "    <tr>\n",
       "      <th>2</th>\n",
       "      <td>How to Train Your Dragon</td>\n",
       "      <td>98</td>\n",
       "      <td>91</td>\n",
       "      <td>PG</td>\n",
       "      <td>[Animation, Kids &amp; Family, Science Fiction &amp; F...</td>\n",
       "      <td>[Jay Baruchel, Gerard Butler, Craig Ferguson, ...</td>\n",
       "      <td>[Dean DeBlois, Chris Sanders]</td>\n",
       "      <td>2010-03-26</td>\n",
       "      <td>[Paramount, DWA]</td>\n",
       "      <td>98</td>\n",
       "      <td>216900000.0</td>\n",
       "      <td>The son of a Viking chief must capture a drago...</td>\n",
       "    </tr>\n",
       "    <tr>\n",
       "      <th>3</th>\n",
       "      <td>The King's Speech</td>\n",
       "      <td>95</td>\n",
       "      <td>92</td>\n",
       "      <td>PG-13</td>\n",
       "      <td>[Drama]</td>\n",
       "      <td>[Colin Firth, Helena Bonham Carter, Geoffrey R...</td>\n",
       "      <td>[Tom Hooper]</td>\n",
       "      <td>2010-11-26</td>\n",
       "      <td>[The Weinstein Company]</td>\n",
       "      <td>118</td>\n",
       "      <td>138300000.0</td>\n",
       "      <td>After the death of his father King George V (M...</td>\n",
       "    </tr>\n",
       "    <tr>\n",
       "      <th>4</th>\n",
       "      <td>Inside Job</td>\n",
       "      <td>98</td>\n",
       "      <td>91</td>\n",
       "      <td>PG-13</td>\n",
       "      <td>[Documentary, Special Interest]</td>\n",
       "      <td>[Matt Damon, William Ackman, Daniel Alpert, Jo...</td>\n",
       "      <td>[Charles Ferguson (III)]</td>\n",
       "      <td>2010-10-08</td>\n",
       "      <td>[Sony Pictures Classics]</td>\n",
       "      <td>108</td>\n",
       "      <td>4311834.0</td>\n",
       "      <td>From Academy Award (R) nominated filmmaker, Ch...</td>\n",
       "    </tr>\n",
       "  </tbody>\n",
       "</table>\n",
       "</div>"
      ],
      "text/plain": [
       "                       name  meter_score  audience_score rating  \\\n",
       "0               Toy Story 3           98              89      G   \n",
       "1                 True Grit           96              85  PG-13   \n",
       "2  How to Train Your Dragon           98              91     PG   \n",
       "3         The King's Speech           95              92  PG-13   \n",
       "4                Inside Job           98              91  PG-13   \n",
       "\n",
       "                                               genre  \\\n",
       "0  [Animation, Comedy, Kids & Family, Science Fic...   \n",
       "1               [Action & Adventure, Drama, Western]   \n",
       "2  [Animation, Kids & Family, Science Fiction & F...   \n",
       "3                                            [Drama]   \n",
       "4                    [Documentary, Special Interest]   \n",
       "\n",
       "                                                cast  \\\n",
       "0  [Tom Hanks, Tim Allen, Joan Cusack, Ned Beatty...   \n",
       "1  [Hailee Steinfeld, Jeff Bridges, Matt Damon, J...   \n",
       "2  [Jay Baruchel, Gerard Butler, Craig Ferguson, ...   \n",
       "3  [Colin Firth, Helena Bonham Carter, Geoffrey R...   \n",
       "4  [Matt Damon, William Ackman, Daniel Alpert, Jo...   \n",
       "\n",
       "                        director       time                    studio runtime  \\\n",
       "0                  [Lee Unkrich] 2010-06-18    [Walt Disney Pictures]     103   \n",
       "1        [Joel Coen, Ethan Coen] 2010-12-22      [Paramount Pictures]     110   \n",
       "2  [Dean DeBlois, Chris Sanders] 2010-03-26          [Paramount, DWA]      98   \n",
       "3                   [Tom Hooper] 2010-11-26   [The Weinstein Company]     118   \n",
       "4       [Charles Ferguson (III)] 2010-10-08  [Sony Pictures Classics]     108   \n",
       "\n",
       "    box_office                                     movie_synopsis  \n",
       "0  414984497.0  \"Toy Story 3\" welcomes Woody, Buzz and the who...  \n",
       "1  171031347.0  Fourteen-year-old Mattie Ross (Hailee Steinfel...  \n",
       "2  216900000.0  The son of a Viking chief must capture a drago...  \n",
       "3  138300000.0  After the death of his father King George V (M...  \n",
       "4    4311834.0  From Academy Award (R) nominated filmmaker, Ch...  "
      ]
     },
     "execution_count": 20,
     "metadata": {},
     "output_type": "execute_result"
    }
   ],
   "source": [
    "df[:5]"
   ]
  },
  {
   "cell_type": "code",
   "execution_count": 27,
   "metadata": {},
   "outputs": [
    {
     "data": {
      "text/plain": [
       "['Lee Unkrich']"
      ]
     },
     "execution_count": 27,
     "metadata": {},
     "output_type": "execute_result"
    }
   ],
   "source": [
    "df.to_csv('data.csv',index=True,sep=',')"
   ]
  }
 ],
 "metadata": {
  "kernelspec": {
   "display_name": "Python 3",
   "language": "python",
   "name": "python3"
  },
  "language_info": {
   "codemirror_mode": {
    "name": "ipython",
    "version": 3
   },
   "file_extension": ".py",
   "mimetype": "text/x-python",
   "name": "python",
   "nbconvert_exporter": "python",
   "pygments_lexer": "ipython3",
   "version": "3.6.5"
  },
  "toc": {
   "base_numbering": 1,
   "nav_menu": {},
   "number_sections": true,
   "sideBar": true,
   "skip_h1_title": false,
   "title_cell": "Table of Contents",
   "title_sidebar": "Contents",
   "toc_cell": false,
   "toc_position": {},
   "toc_section_display": true,
   "toc_window_display": false
  }
 },
 "nbformat": 4,
 "nbformat_minor": 2
}
