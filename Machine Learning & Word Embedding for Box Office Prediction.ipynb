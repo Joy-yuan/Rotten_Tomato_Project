{
 "cells": [
  {
   "cell_type": "markdown",
   "metadata": {},
   "source": [
    "# generate dummy variables & collect features"
   ]
  },
  {
   "cell_type": "markdown",
   "metadata": {},
   "source": [
    "## Import Packages and load data"
   ]
  },
  {
   "cell_type": "code",
   "execution_count": 1,
   "metadata": {},
   "outputs": [],
   "source": [
    "import pandas as pd\n",
    "import numpy as np\n",
    "from sklearn.ensemble import RandomForestRegressor\n",
    "from datetime import datetime\n",
    "%matplotlib inline\n",
    "from matplotlib import pyplot as plt"
   ]
  },
  {
   "cell_type": "code",
   "execution_count": 2,
   "metadata": {},
   "outputs": [],
   "source": [
    "df = pd.read_csv(\"cleaned_data.csv\",index_col='Unnamed: 0')"
   ]
  },
  {
   "cell_type": "code",
   "execution_count": 3,
   "metadata": {},
   "outputs": [
    {
     "data": {
      "image/png": "[encoded data removed]",
      "text/plain": [
       "<Figure size 864x360 with 2 Axes>"
      ]
     },
     "metadata": {
      "needs_background": "light"
     },
     "output_type": "display_data"
    }
   ],
   "source": [
    "# using log(box office) for prediction\n",
    "plt.figure(figsize=(12,5))\n",
    "plt.subplot(1,2,1)\n",
    "df['box_office'].hist()\n",
    "plt.title('Box office')\n",
    "\n",
    "plt.subplot(1,2,2)\n",
    "np.log(df['box_office']).hist()\n",
    "plt.title('Log Box office')\n",
    "\n",
    "plt.show()"
   ]
  },
  {
   "cell_type": "markdown",
   "metadata": {},
   "source": [
    "## generate dummy variables"
   ]
  },
  {
   "cell_type": "code",
   "execution_count": 4,
   "metadata": {},
   "outputs": [],
   "source": [
    "# generate dummy variables for rating column\n",
    "raw_data = pd.concat([df,pd.get_dummies(df['rating'],prefix = 'rating')],axis=1)"
   ]
  },
  {
   "cell_type": "code",
   "execution_count": 5,
   "metadata": {
    "code_folding": []
   },
   "outputs": [],
   "source": [
    "# generate dummy variables for studio column\n",
    "def get_columns(df_column):\n",
    "    l = []\n",
    "    for ele in df_column:\n",
    "        if ele!='na' and ele!='nan':\n",
    "            l.extend(ele.split(', '))\n",
    "\n",
    "    return set([x[1:-1] for x in l])\n",
    "\n",
    "studio_list = get_columns(raw_data['studio'])\n",
    "for ele in studio_list:\n",
    "    raw_data['studio_'+str(ele).strip()]=np.where(raw_data[\"studio\"].str.contains(ele),1,0)"
   ]
  },
  {
   "cell_type": "code",
   "execution_count": 6,
   "metadata": {},
   "outputs": [],
   "source": [
    "# generate dummy variables for genre column\n",
    "genre_list = get_columns(df['genre'])\n",
    "for ele in genre_list:\n",
    "    raw_data['genre_'+str(ele)]=np.where(df[\"genre\"].str.contains(ele),1,0)"
   ]
  },
  {
   "cell_type": "markdown",
   "metadata": {},
   "source": [
    "## Caculate days from the earliest movies"
   ]
  },
  {
   "cell_type": "markdown",
   "metadata": {},
   "source": [
    "Intuition: Later movies are expected to have larger box office"
   ]
  },
  {
   "cell_type": "code",
   "execution_count": 7,
   "metadata": {},
   "outputs": [
    {
     "name": "stdout",
     "output_type": "stream",
     "text": [
      "Earliest date in data: 2000-04-01 00:00:00\n"
     ]
    }
   ],
   "source": [
    "# generate 'days_to_000401' column\n",
    "earliest_date = datetime.strptime(raw_data['time'].min(),\"%Y-%m-%d\")\n",
    "print('Earliest date in data:', earliest_date)\n",
    "\n",
    "temp_list = []\n",
    "for i in range(len(raw_data)):\n",
    "    temp_list.append((datetime.strptime(raw_data.iloc[i]['time'],\"%Y-%m-%d\")-earliest_date).days)\n",
    "raw_data['days_to_000401'] = temp_list"
   ]
  },
  {
   "cell_type": "markdown",
   "metadata": {},
   "source": [
    "## Drop columns"
   ]
  },
  {
   "cell_type": "code",
   "execution_count": 8,
   "metadata": {},
   "outputs": [],
   "source": [
    "cleaned_date = raw_data.drop(['meter_score','audience_score','name','rating','genre','cast', 'director', 'time','studio'],axis=1)"
   ]
  },
  {
   "cell_type": "markdown",
   "metadata": {},
   "source": [
    "## Train, validation and test Split"
   ]
  },
  {
   "cell_type": "code",
   "execution_count": 9,
   "metadata": {},
   "outputs": [
    {
     "data": {
      "text/plain": [
       "((930, 374), (116, 374), (117, 374), (930,), (116,), (117,))"
      ]
     },
     "execution_count": 9,
     "metadata": {},
     "output_type": "execute_result"
    }
   ],
   "source": [
    "from sklearn.model_selection import train_test_split\n",
    "\n",
    "Y = np.log(cleaned_date['box_office'])\n",
    "X = cleaned_date.drop(['box_office'],axis=1)\n",
    "train_X, VT_X, train_Y, VT_Y = train_test_split(X,Y,test_size=0.2)\n",
    "validation_X, test_X, validation_Y, test_Y = train_test_split(VT_X,VT_Y,test_size=0.5)\n",
    "train_X.shape,validation_X.shape,test_X.shape,train_Y.shape,validation_Y.shape,test_Y.shape"
   ]
  },
  {
   "cell_type": "markdown",
   "metadata": {},
   "source": [
    "# Word Embedding"
   ]
  },
  {
   "cell_type": "code",
   "execution_count": 10,
   "metadata": {},
   "outputs": [],
   "source": [
    "from gensim.models import Word2Vec\n",
    "from nltk import tokenize\n",
    "from nltk import word_tokenize"
   ]
  },
  {
   "cell_type": "markdown",
   "metadata": {},
   "source": [
    "## Embedding model"
   ]
  },
  {
   "cell_type": "code",
   "execution_count": 11,
   "metadata": {},
   "outputs": [],
   "source": [
    "corpus = []\n",
    "for ele in train_X['movie_synopsis']:\n",
    "    s = ele.lower()\n",
    "    corpus.append(word_tokenize(s)) "
   ]
  },
  {
   "cell_type": "code",
   "execution_count": 12,
   "metadata": {},
   "outputs": [],
   "source": [
    "model = Word2Vec(corpus,size=100, window=5, min_count=1, workers=4)"
   ]
  },
  {
   "cell_type": "markdown",
   "metadata": {},
   "source": [
    "## Transform train/validation/test data"
   ]
  },
  {
   "cell_type": "code",
   "execution_count": 13,
   "metadata": {},
   "outputs": [],
   "source": [
    "def transform(x):\n",
    "    vectors = []\n",
    "    for ele in x:\n",
    "        words = word_tokenize(ele.lower())\n",
    "        total = 0\n",
    "        vector = np.array([0]*100)\n",
    "        for ele1 in words:\n",
    "            try:\n",
    "                vector = vector+model.wv[ele1]\n",
    "                total += 1\n",
    "            except:\n",
    "                pass\n",
    "        vector = vector/total*10\n",
    "        vectors.append(vector)\n",
    "    return vectors"
   ]
  },
  {
   "cell_type": "code",
   "execution_count": 14,
   "metadata": {},
   "outputs": [
    {
     "data": {
      "text/plain": [
       "(930, 474)"
      ]
     },
     "execution_count": 14,
     "metadata": {},
     "output_type": "execute_result"
    }
   ],
   "source": [
    "# transform training data\n",
    "word_embedding = pd.DataFrame(transform(train_X['movie_synopsis']),index=train_X.index)\n",
    "train_X_we = train_X.join(word_embedding)\n",
    "train_X_we.shape"
   ]
  },
  {
   "cell_type": "code",
   "execution_count": 15,
   "metadata": {},
   "outputs": [
    {
     "data": {
      "text/html": [
       "<div>\n",
       "<style scoped>\n",
       "    .dataframe tbody tr th:only-of-type {\n",
       "        vertical-align: middle;\n",
       "    }\n",
       "\n",
       "    .dataframe tbody tr th {\n",
       "        vertical-align: top;\n",
       "    }\n",
       "\n",
       "    .dataframe thead th {\n",
       "        text-align: right;\n",
       "    }\n",
       "</style>\n",
       "<table border=\"1\" class=\"dataframe\">\n",
       "  <thead>\n",
       "    <tr style=\"text-align: right;\">\n",
       "      <th></th>\n",
       "      <th>runtime</th>\n",
       "      <th>movie_synopsis</th>\n",
       "      <th>rating_G</th>\n",
       "      <th>rating_NC17</th>\n",
       "      <th>rating_NR</th>\n",
       "      <th>rating_PG</th>\n",
       "      <th>rating_PG-13</th>\n",
       "      <th>rating_R</th>\n",
       "      <th>studio_Village Roadshow'</th>\n",
       "      <th>studio_'The Weinstein Company'</th>\n",
       "      <th>...</th>\n",
       "      <th>90</th>\n",
       "      <th>91</th>\n",
       "      <th>92</th>\n",
       "      <th>93</th>\n",
       "      <th>94</th>\n",
       "      <th>95</th>\n",
       "      <th>96</th>\n",
       "      <th>97</th>\n",
       "      <th>98</th>\n",
       "      <th>99</th>\n",
       "    </tr>\n",
       "  </thead>\n",
       "  <tbody>\n",
       "    <tr>\n",
       "      <th>1331</th>\n",
       "      <td>94</td>\n",
       "      <td>Flipping back and forth between the 18th centu...</td>\n",
       "      <td>0</td>\n",
       "      <td>0</td>\n",
       "      <td>0</td>\n",
       "      <td>0</td>\n",
       "      <td>0</td>\n",
       "      <td>1</td>\n",
       "      <td>0</td>\n",
       "      <td>0</td>\n",
       "      <td>...</td>\n",
       "      <td>2.337236</td>\n",
       "      <td>5.248883</td>\n",
       "      <td>1.364524</td>\n",
       "      <td>3.724325</td>\n",
       "      <td>11.596282</td>\n",
       "      <td>9.646227</td>\n",
       "      <td>-6.932783</td>\n",
       "      <td>1.411255</td>\n",
       "      <td>-1.431612</td>\n",
       "      <td>-16.268013</td>\n",
       "    </tr>\n",
       "    <tr>\n",
       "      <th>286</th>\n",
       "      <td>117</td>\n",
       "      <td>Matthew McConaughey stars in DALLAS BUYERS CLU...</td>\n",
       "      <td>0</td>\n",
       "      <td>0</td>\n",
       "      <td>0</td>\n",
       "      <td>0</td>\n",
       "      <td>0</td>\n",
       "      <td>1</td>\n",
       "      <td>0</td>\n",
       "      <td>0</td>\n",
       "      <td>...</td>\n",
       "      <td>2.253053</td>\n",
       "      <td>5.209550</td>\n",
       "      <td>1.290010</td>\n",
       "      <td>3.645523</td>\n",
       "      <td>11.455240</td>\n",
       "      <td>9.543464</td>\n",
       "      <td>-6.859856</td>\n",
       "      <td>1.372840</td>\n",
       "      <td>-1.338830</td>\n",
       "      <td>-16.039709</td>\n",
       "    </tr>\n",
       "    <tr>\n",
       "      <th>1663</th>\n",
       "      <td>112</td>\n",
       "      <td>Mild-mannered scientist Bruce Banner has been ...</td>\n",
       "      <td>0</td>\n",
       "      <td>0</td>\n",
       "      <td>0</td>\n",
       "      <td>0</td>\n",
       "      <td>1</td>\n",
       "      <td>0</td>\n",
       "      <td>0</td>\n",
       "      <td>0</td>\n",
       "      <td>...</td>\n",
       "      <td>2.389326</td>\n",
       "      <td>5.463634</td>\n",
       "      <td>1.360492</td>\n",
       "      <td>3.845735</td>\n",
       "      <td>12.053989</td>\n",
       "      <td>10.014504</td>\n",
       "      <td>-7.200775</td>\n",
       "      <td>1.458218</td>\n",
       "      <td>-1.432942</td>\n",
       "      <td>-16.856186</td>\n",
       "    </tr>\n",
       "    <tr>\n",
       "      <th>1095</th>\n",
       "      <td>87</td>\n",
       "      <td>A family struggles to go on after a devastatin...</td>\n",
       "      <td>0</td>\n",
       "      <td>0</td>\n",
       "      <td>0</td>\n",
       "      <td>0</td>\n",
       "      <td>0</td>\n",
       "      <td>1</td>\n",
       "      <td>0</td>\n",
       "      <td>0</td>\n",
       "      <td>...</td>\n",
       "      <td>2.505030</td>\n",
       "      <td>5.899346</td>\n",
       "      <td>1.367577</td>\n",
       "      <td>4.085153</td>\n",
       "      <td>12.964632</td>\n",
       "      <td>10.759757</td>\n",
       "      <td>-7.736104</td>\n",
       "      <td>1.479191</td>\n",
       "      <td>-1.415573</td>\n",
       "      <td>-18.027786</td>\n",
       "    </tr>\n",
       "    <tr>\n",
       "      <th>689</th>\n",
       "      <td>127</td>\n",
       "      <td>HIDDEN FIGURES is the incredible untold story ...</td>\n",
       "      <td>0</td>\n",
       "      <td>0</td>\n",
       "      <td>0</td>\n",
       "      <td>1</td>\n",
       "      <td>0</td>\n",
       "      <td>0</td>\n",
       "      <td>0</td>\n",
       "      <td>0</td>\n",
       "      <td>...</td>\n",
       "      <td>2.073546</td>\n",
       "      <td>5.022348</td>\n",
       "      <td>1.144095</td>\n",
       "      <td>3.412106</td>\n",
       "      <td>10.967946</td>\n",
       "      <td>9.179683</td>\n",
       "      <td>-6.553510</td>\n",
       "      <td>1.146452</td>\n",
       "      <td>-1.091280</td>\n",
       "      <td>-15.224534</td>\n",
       "    </tr>\n",
       "  </tbody>\n",
       "</table>\n",
       "<p>5 rows × 474 columns</p>\n",
       "</div>"
      ],
      "text/plain": [
       "      runtime                                     movie_synopsis  rating_G  \\\n",
       "1331       94  Flipping back and forth between the 18th centu...         0   \n",
       "286       117  Matthew McConaughey stars in DALLAS BUYERS CLU...         0   \n",
       "1663      112  Mild-mannered scientist Bruce Banner has been ...         0   \n",
       "1095       87  A family struggles to go on after a devastatin...         0   \n",
       "689       127  HIDDEN FIGURES is the incredible untold story ...         0   \n",
       "\n",
       "      rating_NC17  rating_NR  rating_PG  rating_PG-13  rating_R  \\\n",
       "1331            0          0          0             0         1   \n",
       "286             0          0          0             0         1   \n",
       "1663            0          0          0             1         0   \n",
       "1095            0          0          0             0         1   \n",
       "689             0          0          1             0         0   \n",
       "\n",
       "      studio_Village Roadshow'  studio_'The Weinstein Company'    ...      \\\n",
       "1331                         0                               0    ...       \n",
       "286                          0                               0    ...       \n",
       "1663                         0                               0    ...       \n",
       "1095                         0                               0    ...       \n",
       "689                          0                               0    ...       \n",
       "\n",
       "            90        91        92        93         94         95        96  \\\n",
       "1331  2.337236  5.248883  1.364524  3.724325  11.596282   9.646227 -6.932783   \n",
       "286   2.253053  5.209550  1.290010  3.645523  11.455240   9.543464 -6.859856   \n",
       "1663  2.389326  5.463634  1.360492  3.845735  12.053989  10.014504 -7.200775   \n",
       "1095  2.505030  5.899346  1.367577  4.085153  12.964632  10.759757 -7.736104   \n",
       "689   2.073546  5.022348  1.144095  3.412106  10.967946   9.179683 -6.553510   \n",
       "\n",
       "            97        98         99  \n",
       "1331  1.411255 -1.431612 -16.268013  \n",
       "286   1.372840 -1.338830 -16.039709  \n",
       "1663  1.458218 -1.432942 -16.856186  \n",
       "1095  1.479191 -1.415573 -18.027786  \n",
       "689   1.146452 -1.091280 -15.224534  \n",
       "\n",
       "[5 rows x 474 columns]"
      ]
     },
     "execution_count": 15,
     "metadata": {},
     "output_type": "execute_result"
    }
   ],
   "source": [
    "train_X_we.head()"
   ]
  },
  {
   "cell_type": "code",
   "execution_count": 16,
   "metadata": {},
   "outputs": [],
   "source": [
    "# transform validation data\n",
    "word_embedding = pd.DataFrame(transform(validation_X['movie_synopsis']),index=validation_X.index)\n",
    "validation_X_we = validation_X.join(word_embedding)\n",
    "\n",
    "# transform test data\n",
    "word_embedding = pd.DataFrame(transform(test_X['movie_synopsis']),index=test_X.index)\n",
    "test_X_we = test_X.join(word_embedding)"
   ]
  },
  {
   "cell_type": "markdown",
   "metadata": {},
   "source": [
    "## Drop 'movie_synopsis' and rename"
   ]
  },
  {
   "cell_type": "code",
   "execution_count": 17,
   "metadata": {},
   "outputs": [],
   "source": [
    "train_X = train_X_we.drop('movie_synopsis',axis=1)\n",
    "validation_X = validation_X_we.drop('movie_synopsis',axis=1)\n",
    "test_X = test_X_we.drop('movie_synopsis',axis=1)\n",
    "train_X.shape,validation_X.shape,test_X.shape\n",
    "del model"
   ]
  },
  {
   "cell_type": "markdown",
   "metadata": {},
   "source": [
    "# Benchmark model: Linear Regression"
   ]
  },
  {
   "cell_type": "code",
   "execution_count": 18,
   "metadata": {},
   "outputs": [],
   "source": [
    "from sklearn.linear_model import LinearRegression\n",
    "from sklearn.metrics import mean_squared_error"
   ]
  },
  {
   "cell_type": "code",
   "execution_count": 32,
   "metadata": {},
   "outputs": [
    {
     "name": "stdout",
     "output_type": "stream",
     "text": [
      "MSE on training set: 1.0836231700981958\n",
      "MSE on validation set: 3.702405009145883\n"
     ]
    }
   ],
   "source": [
    "OLS_model = LinearRegression()\n",
    "OLS_model.fit(train_X,train_Y)\n",
    "print('MSE on training set:', mean_squared_error(OLS_model.predict(train_X),train_Y))\n",
    "print('MSE on validation set:',mean_squared_error(OLS_model.predict(validation_X),validation_Y))"
   ]
  },
  {
   "cell_type": "markdown",
   "metadata": {},
   "source": [
    "# Random Forest and XGBoost"
   ]
  },
  {
   "cell_type": "markdown",
   "metadata": {},
   "source": [
    "## Feature Selection: Lasso"
   ]
  },
  {
   "cell_type": "code",
   "execution_count": 20,
   "metadata": {},
   "outputs": [],
   "source": [
    "from sklearn.linear_model import Lasso\n",
    "from sklearn.metrics import mean_squared_error\n",
    "from sklearn.model_selection import GridSearchCV"
   ]
  },
  {
   "cell_type": "code",
   "execution_count": 21,
   "metadata": {},
   "outputs": [
    {
     "data": {
      "text/plain": [
       "Lasso(alpha=0.0002, copy_X=True, fit_intercept=True, max_iter=1000000,\n",
       "   normalize=False, positive=False, precompute=False, random_state=None,\n",
       "   selection='cyclic', tol=0.0001, warm_start=False)"
      ]
     },
     "execution_count": 21,
     "metadata": {},
     "output_type": "execute_result"
    }
   ],
   "source": [
    "Lasso_model = Lasso(alpha=0.0002,max_iter=1000000)\n",
    "Lasso_model.fit(train_X,train_Y)\n",
    "# train_X.columns[(Lasso_model.coef_==0)][-100:]"
   ]
  },
  {
   "cell_type": "code",
   "execution_count": 22,
   "metadata": {},
   "outputs": [
    {
     "data": {
      "text/plain": [
       "140"
      ]
     },
     "execution_count": 22,
     "metadata": {},
     "output_type": "execute_result"
    }
   ],
   "source": [
    "(Lasso_model.coef_==0).sum()"
   ]
  },
  {
   "cell_type": "code",
   "execution_count": 23,
   "metadata": {},
   "outputs": [
    {
     "data": {
      "text/plain": [
       "333"
      ]
     },
     "execution_count": 23,
     "metadata": {},
     "output_type": "execute_result"
    }
   ],
   "source": [
    "drop_list = train_X.columns[(Lasso_model.coef_==0)]\n",
    "train_X = train_X.drop(drop_list,axis=1)\n",
    "validation_X = validation_X.drop(drop_list,axis=1)\n",
    "test_X = test_X.drop(drop_list,axis=1)\n",
    "train_X.shape[1]"
   ]
  },
  {
   "cell_type": "markdown",
   "metadata": {},
   "source": [
    "## Random Forest"
   ]
  },
  {
   "cell_type": "code",
   "execution_count": 24,
   "metadata": {},
   "outputs": [
    {
     "name": "stdout",
     "output_type": "stream",
     "text": [
      "CPU times: user 4min 20s, sys: 3.16 s, total: 4min 23s\n",
      "Wall time: 4min 36s\n"
     ]
    },
    {
     "data": {
      "text/plain": [
       "RandomForestRegressor(bootstrap=True, criterion='mse', max_depth=16,\n",
       "           max_features=120, max_leaf_nodes=None,\n",
       "           min_impurity_decrease=0.0, min_impurity_split=None,\n",
       "           min_samples_leaf=1, min_samples_split=2,\n",
       "           min_weight_fraction_leaf=0.0, n_estimators=320, n_jobs=None,\n",
       "           oob_score=False, random_state=None, verbose=0, warm_start=False)"
      ]
     },
     "execution_count": 24,
     "metadata": {},
     "output_type": "execute_result"
    }
   ],
   "source": [
    "selection_model = GridSearchCV(RandomForestRegressor(),\n",
    "                             {'n_estimators':[80,160,320],'max_features':[15,30,60,120,200],'max_depth':[3,5,8,16,None]},\n",
    "                             cv=5)\n",
    "%time selection_model.fit(train_X,train_Y)\n",
    "selection_model.best_estimator_"
   ]
  },
  {
   "cell_type": "code",
   "execution_count": 26,
   "metadata": {},
   "outputs": [
    {
     "name": "stdout",
     "output_type": "stream",
     "text": [
      "MSE on training set: 0.4163763531748863\n",
      "MSE on validation set: 3.6782307866461825\n"
     ]
    }
   ],
   "source": [
    "best_rf_model = RandomForestRegressor(bootstrap=True, criterion='mse', max_depth=16,\n",
    "           max_features=120, max_leaf_nodes=None,\n",
    "           min_impurity_decrease=0.0, min_impurity_split=None,\n",
    "           min_samples_leaf=1, min_samples_split=2,\n",
    "           min_weight_fraction_leaf=0.0, n_estimators=320, n_jobs=None,\n",
    "           oob_score=False, random_state=None, verbose=0, warm_start=False)\n",
    "best_rf_model.fit(train_X,train_Y)\n",
    "\n",
    "print('MSE on training set:', mean_squared_error(best_rf_model.predict(train_X),train_Y))\n",
    "print('MSE on validation set:',mean_squared_error(best_rf_model.predict(validation_X),validation_Y))"
   ]
  },
  {
   "cell_type": "code",
   "execution_count": 27,
   "metadata": {},
   "outputs": [
    {
     "data": {
      "image/png": "[encoded data removed]",
      "text/plain": [
       "<Figure size 432x288 with 1 Axes>"
      ]
     },
     "metadata": {
      "needs_background": "light"
     },
     "output_type": "display_data"
    }
   ],
   "source": [
    "feature_names = [i for i in train_X.columns]\n",
    "importances = best_rf_model.feature_importances_\n",
    "indices = np.argsort(importances)\n",
    "\n",
    "plt.title('Feature Importances')\n",
    "plt.barh(range(20), importances[indices][0:20], color='y', align='center')\n",
    "plt.yticks(range(20),feature_names[0:20])\n",
    "plt.xlabel('Relative Importance')\n",
    "plt.show()"
   ]
  },
  {
   "cell_type": "markdown",
   "metadata": {},
   "source": [
    "## XGBoost"
   ]
  },
  {
   "cell_type": "code",
   "execution_count": 28,
   "metadata": {},
   "outputs": [],
   "source": [
    "from xgboost import XGBRegressor"
   ]
  },
  {
   "cell_type": "code",
   "execution_count": 29,
   "metadata": {},
   "outputs": [
    {
     "name": "stdout",
     "output_type": "stream",
     "text": [
      "CPU times: user 7min 46s, sys: 6.25 s, total: 7min 52s\n",
      "Wall time: 8min 15s\n"
     ]
    },
    {
     "data": {
      "text/plain": [
       "XGBRegressor(base_score=0.5, booster='gbtree', colsample_bylevel=1,\n",
       "       colsample_bytree=0.9, gamma=0, learning_rate=0.1, max_delta_step=0,\n",
       "       max_depth=3, min_child_weight=4, missing=None, n_estimators=100,\n",
       "       n_jobs=1, nthread=None, objective='reg:linear', random_state=0,\n",
       "       reg_alpha=0, reg_lambda=1, scale_pos_weight=1, seed=None,\n",
       "       silent=True, subsample=1)"
      ]
     },
     "execution_count": 29,
     "metadata": {},
     "output_type": "execute_result"
    }
   ],
   "source": [
    "XGB_selection_model = GridSearchCV(XGBRegressor(),\n",
    "                                 {'min_child_weight':[0.25,0.5,1,2,4],'colsample_bytree':[0.5,0.6,0.7,0.8,0.9,1],\n",
    "                                  'max_depth':[3,5,7,9]},\n",
    "                                 cv=5)\n",
    "%time XGB_selection_model.fit(train_X,train_Y)\n",
    "XGB_selection_model.best_estimator_"
   ]
  },
  {
   "cell_type": "code",
   "execution_count": 30,
   "metadata": {},
   "outputs": [
    {
     "name": "stdout",
     "output_type": "stream",
     "text": [
      "MSE on training set: 1.6225634876564121\n",
      "MSE on validation set: 3.551087928879539\n"
     ]
    }
   ],
   "source": [
    "best_XGB = XGBRegressor(base_score=0.5, booster='gbtree', colsample_bylevel=1,\n",
    "       colsample_bytree=0.9, gamma=0, learning_rate=0.1, max_delta_step=0,\n",
    "       max_depth=3, min_child_weight=4, missing=None, n_estimators=100,\n",
    "       n_jobs=1, nthread=None, objective='reg:linear', random_state=0,\n",
    "       reg_alpha=0, reg_lambda=1, scale_pos_weight=1, seed=None,\n",
    "       silent=True, subsample=1)\n",
    "best_XGB.fit(train_X,train_Y)\n",
    "mean_squared_error(best_XGB.predict(train_X),train_Y)\n",
    "\n",
    "print('MSE on training set:', mean_squared_error(best_XGB.predict(train_X),train_Y))\n",
    "print('MSE on validation set:',mean_squared_error(best_XGB.predict(validation_X),validation_Y))"
   ]
  },
  {
   "cell_type": "markdown",
   "metadata": {},
   "source": [
    "# Prediction for Box office"
   ]
  },
  {
   "cell_type": "markdown",
   "metadata": {},
   "source": [
    "## model selection"
   ]
  },
  {
   "cell_type": "markdown",
   "metadata": {},
   "source": [
    "According to validation data\n",
    "- mean square error of Linear Regression:  3.702405009145883 \n",
    "- mean square error of Random Forest:  3.6782307866461825\n",
    "- mean square error of XGBoost:  3.551087928879539\n",
    "\n",
    "Therefore Random Forest will be chosen for prediction."
   ]
  },
  {
   "cell_type": "code",
   "execution_count": 31,
   "metadata": {},
   "outputs": [
    {
     "data": {
      "text/plain": [
       "2.291005589375202"
      ]
     },
     "execution_count": 31,
     "metadata": {},
     "output_type": "execute_result"
    }
   ],
   "source": [
    "final_train_X = pd.concat([train_X,validation_X])\n",
    "final_train_Y = pd.concat([train_Y,validation_Y])\n",
    "best_XGB.fit(final_train_X,final_train_Y)\n",
    "mean_squared_error(best_XGB.predict(test_X),test_Y)"
   ]
  },
  {
   "cell_type": "markdown",
   "metadata": {},
   "source": [
    "## Predicted Box Office"
   ]
  },
  {
   "cell_type": "markdown",
   "metadata": {},
   "source": [
    "The example input for model is illstrated as follows \n",
    "\n",
    "- First, the raw input should be cleaned by the preprocessing ipynb file (actor_score and director_score could be calculated in that file)\n",
    "- Next, the cleaned input should be processed by the ML & WE prediction ipynb file, and will be ready for the model"
   ]
  },
  {
   "cell_type": "code",
   "execution_count": 33,
   "metadata": {},
   "outputs": [
    {
     "data": {
      "text/html": [
       "<div>\n",
       "<style scoped>\n",
       "    .dataframe tbody tr th:only-of-type {\n",
       "        vertical-align: middle;\n",
       "    }\n",
       "\n",
       "    .dataframe tbody tr th {\n",
       "        vertical-align: top;\n",
       "    }\n",
       "\n",
       "    .dataframe thead th {\n",
       "        text-align: right;\n",
       "    }\n",
       "</style>\n",
       "<table border=\"1\" class=\"dataframe\">\n",
       "  <thead>\n",
       "    <tr style=\"text-align: right;\">\n",
       "      <th></th>\n",
       "      <th>name</th>\n",
       "      <th>meter_score</th>\n",
       "      <th>audience_score</th>\n",
       "      <th>rating</th>\n",
       "      <th>genre</th>\n",
       "      <th>cast</th>\n",
       "      <th>director</th>\n",
       "      <th>time</th>\n",
       "      <th>studio</th>\n",
       "      <th>runtime</th>\n",
       "      <th>box_office</th>\n",
       "      <th>movie_synopsis</th>\n",
       "    </tr>\n",
       "  </thead>\n",
       "  <tbody>\n",
       "    <tr>\n",
       "      <th>0</th>\n",
       "      <td>Toy Story 3</td>\n",
       "      <td>98</td>\n",
       "      <td>89</td>\n",
       "      <td>G</td>\n",
       "      <td>['Animation', 'Comedy', 'Kids &amp; Family', 'Scie...</td>\n",
       "      <td>['Tom Hanks', 'Tim Allen', 'Joan Cusack', 'Ned...</td>\n",
       "      <td>['Lee Unkrich']</td>\n",
       "      <td>2010-06-18</td>\n",
       "      <td>['Walt Disney Pictures']</td>\n",
       "      <td>103</td>\n",
       "      <td>414984497.0</td>\n",
       "      <td>\"Toy Story 3\" welcomes Woody, Buzz and the who...</td>\n",
       "    </tr>\n",
       "  </tbody>\n",
       "</table>\n",
       "</div>"
      ],
      "text/plain": [
       "          name  meter_score  audience_score rating  \\\n",
       "0  Toy Story 3           98              89      G   \n",
       "\n",
       "                                               genre  \\\n",
       "0  ['Animation', 'Comedy', 'Kids & Family', 'Scie...   \n",
       "\n",
       "                                                cast         director  \\\n",
       "0  ['Tom Hanks', 'Tim Allen', 'Joan Cusack', 'Ned...  ['Lee Unkrich']   \n",
       "\n",
       "         time                    studio  runtime   box_office  \\\n",
       "0  2010-06-18  ['Walt Disney Pictures']      103  414984497.0   \n",
       "\n",
       "                                      movie_synopsis  \n",
       "0  \"Toy Story 3\" welcomes Woody, Buzz and the who...  "
      ]
     },
     "execution_count": 33,
     "metadata": {},
     "output_type": "execute_result"
    }
   ],
   "source": [
    "# example input after data preprocessing\n",
    "df.iloc[:1]"
   ]
  },
  {
   "cell_type": "code",
   "execution_count": 34,
   "metadata": {},
   "outputs": [
    {
     "data": {
      "text/html": [
       "<div>\n",
       "<style scoped>\n",
       "    .dataframe tbody tr th:only-of-type {\n",
       "        vertical-align: middle;\n",
       "    }\n",
       "\n",
       "    .dataframe tbody tr th {\n",
       "        vertical-align: top;\n",
       "    }\n",
       "\n",
       "    .dataframe thead th {\n",
       "        text-align: right;\n",
       "    }\n",
       "</style>\n",
       "<table border=\"1\" class=\"dataframe\">\n",
       "  <thead>\n",
       "    <tr style=\"text-align: right;\">\n",
       "      <th></th>\n",
       "      <th>runtime</th>\n",
       "      <th>rating_G</th>\n",
       "      <th>rating_NC17</th>\n",
       "      <th>rating_NR</th>\n",
       "      <th>rating_PG</th>\n",
       "      <th>rating_PG-13</th>\n",
       "      <th>rating_R</th>\n",
       "      <th>studio_'Menemsha'</th>\n",
       "      <th>studio_'Cinema Purgatorio'</th>\n",
       "      <th>studio_'Wellspring'</th>\n",
       "      <th>...</th>\n",
       "      <th>41</th>\n",
       "      <th>45</th>\n",
       "      <th>53</th>\n",
       "      <th>64</th>\n",
       "      <th>66</th>\n",
       "      <th>75</th>\n",
       "      <th>79</th>\n",
       "      <th>80</th>\n",
       "      <th>81</th>\n",
       "      <th>88</th>\n",
       "    </tr>\n",
       "  </thead>\n",
       "  <tbody>\n",
       "    <tr>\n",
       "      <th>1331</th>\n",
       "      <td>94</td>\n",
       "      <td>0</td>\n",
       "      <td>0</td>\n",
       "      <td>0</td>\n",
       "      <td>0</td>\n",
       "      <td>0</td>\n",
       "      <td>1</td>\n",
       "      <td>0</td>\n",
       "      <td>0</td>\n",
       "      <td>0</td>\n",
       "      <td>...</td>\n",
       "      <td>3.127892</td>\n",
       "      <td>1.489561</td>\n",
       "      <td>1.540268</td>\n",
       "      <td>-10.764084</td>\n",
       "      <td>3.885459</td>\n",
       "      <td>-4.385925</td>\n",
       "      <td>-16.398596</td>\n",
       "      <td>0.031341</td>\n",
       "      <td>-3.953347</td>\n",
       "      <td>9.97593</td>\n",
       "    </tr>\n",
       "  </tbody>\n",
       "</table>\n",
       "<p>1 rows × 333 columns</p>\n",
       "</div>"
      ],
      "text/plain": [
       "      runtime  rating_G  rating_NC17  rating_NR  rating_PG  rating_PG-13  \\\n",
       "1331       94         0            0          0          0             0   \n",
       "\n",
       "      rating_R  studio_'Menemsha'  studio_'Cinema Purgatorio'  \\\n",
       "1331         1                  0                           0   \n",
       "\n",
       "      studio_'Wellspring'   ...           41        45        53         64  \\\n",
       "1331                    0   ...     3.127892  1.489561  1.540268 -10.764084   \n",
       "\n",
       "            66        75         79        80        81       88  \n",
       "1331  3.885459 -4.385925 -16.398596  0.031341 -3.953347  9.97593  \n",
       "\n",
       "[1 rows x 333 columns]"
      ]
     },
     "execution_count": 34,
     "metadata": {},
     "output_type": "execute_result"
    }
   ],
   "source": [
    "# example input for model prediction\n",
    "train_X[:1]"
   ]
  },
  {
   "cell_type": "code",
   "execution_count": 75,
   "metadata": {},
   "outputs": [
    {
     "name": "stdout",
     "output_type": "stream",
     "text": [
      "predicted box office:\t 1063724.4\n",
      "real box office:\t 1324335.0000000005\n"
     ]
    }
   ],
   "source": [
    "# example prediction by XGBoost model\n",
    "log_box_office = best_XGB.predict(test_X.iloc[1:2])\n",
    "box_office = np.exp(log_box_office)\n",
    "print('predicted box office:\\t', box_office[0])\n",
    "print(\"real box office:\\t\",np.exp(test_Y.iloc[1:2]).values[0])"
   ]
  },
  {
   "cell_type": "code",
   "execution_count": 72,
   "metadata": {},
   "outputs": [
    {
     "data": {
      "text/plain": [
       "1443    1324335.0\n",
       "Name: box_office, dtype: float64"
      ]
     },
     "execution_count": 72,
     "metadata": {},
     "output_type": "execute_result"
    }
   ],
   "source": [
    "np.exp(test_Y.iloc[1:2])"
   ]
  },
  {
   "cell_type": "code",
   "execution_count": null,
   "metadata": {},
   "outputs": [],
   "source": []
  }
 ],
 "metadata": {
  "kernelspec": {
   "display_name": "Python 3",
   "language": "python",
   "name": "python3"
  },
  "language_info": {
   "codemirror_mode": {
    "name": "ipython",
    "version": 3
   },
   "file_extension": ".py",
   "mimetype": "text/x-python",
   "name": "python",
   "nbconvert_exporter": "python",
   "pygments_lexer": "ipython3",
   "version": "3.6.5"
  },
  "toc": {
   "base_numbering": 1,
   "nav_menu": {},
   "number_sections": true,
   "sideBar": true,
   "skip_h1_title": false,
   "title_cell": "Table of Contents",
   "title_sidebar": "Contents",
   "toc_cell": false,
   "toc_position": {
    "height": "calc(100% - 180px)",
    "left": "10px",
    "top": "150px",
    "width": "288px"
   },
   "toc_section_display": true,
   "toc_window_display": true
  }
 },
 "nbformat": 4,
 "nbformat_minor": 2
}
