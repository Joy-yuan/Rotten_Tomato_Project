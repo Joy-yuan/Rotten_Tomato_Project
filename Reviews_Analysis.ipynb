{
 "cells": [
  {
   "cell_type": "markdown",
   "metadata": {},
   "source": [
    "### Scrapping Reviews"
   ]
  },
  {
   "cell_type": "code",
   "execution_count": 1,
   "metadata": {},
   "outputs": [],
   "source": [
    "import requests\n",
    "from bs4 import BeautifulSoup\n",
    "import pandas as pd\n",
    "import re\n",
    "import time"
   ]
  },
  {
   "cell_type": "code",
   "execution_count": 2,
   "metadata": {},
   "outputs": [],
   "source": [
    "def get_review(link):\n",
    "    link = link\n",
    "    response = requests.get(link)\n",
    "    review_collection = []\n",
    "    if response.status_code == 200:\n",
    "        try:\n",
    "            result_page = BeautifulSoup(response.content,'lxml')\n",
    "            all_review = result_page.find('div',class_='review_table').find_all('div',class_='the_review')\n",
    "            for review in all_review:\n",
    "                review_collection.append(review.get_text())\n",
    "        except:\n",
    "            get_review(link)\n",
    "    return review_collection"
   ]
  },
  {
   "cell_type": "code",
   "execution_count": null,
   "metadata": {},
   "outputs": [
    {
     "name": "stdout",
     "output_type": "stream",
     "text": [
      "http://www.rottentomatoes.com/m/black_panther_2018 Black Panther\n",
      "http://www.rottentomatoes.com/m/mission_impossible_fallout Mission: Impossible - Fallout\n",
      "http://www.rottentomatoes.com/m/blackkklansman BlacKkKlansman\n"
     ]
    }
   ],
   "source": [
    "init_response = requests.get('https://www.rottentomatoes.com/top/bestofrt/?year=2018')\n",
    "year = 2018\n",
    "all_reviews = []\n",
    "if init_response.status_code == 200:\n",
    "    topmovie_page = BeautifulSoup(init_response.content,'lxml')\n",
    "    movie_link_list= topmovie_page.find('table',class_='table').find_all('a',class_=\"unstyled articleLink\" )\n",
    "    for movie in movie_link_list:\n",
    "        movie_link = 'http://www.rottentomatoes.com' + movie.get('href')\n",
    "        movie_name = movie.get_text()[13:-7]      \n",
    "        print(movie_link,movie_name)\n",
    "        time.sleep(2)\n",
    "        review = get_movie_review(movie_link,year,movie_name)\n",
    "        all_reviews.append(review)\n",
    "        "
   ]
  },
  {
   "cell_type": "code",
   "execution_count": 3,
   "metadata": {
    "scrolled": true
   },
   "outputs": [],
   "source": [
    "def get_movie_review(link,year,name):\n",
    "    \n",
    "    response1 = requests.get(link)\n",
    "    time.sleep(2)\n",
    "    if response1.status_code == 200:\n",
    "        result_page1 = BeautifulSoup(response1.content,'lxml')\n",
    "        body = result_page1.find('section', id=\"contentReviews\")\n",
    "        try:\n",
    "            sibody = body.find('a',class_='small unstyled subtle articleLink')\n",
    "            siibody = sibody.next_sibling.next_sibling.get('href')\n",
    "            link = 'https://www.rottentomatoes.com' + siibody\n",
    "\n",
    "        except:\n",
    "            get_movie_review(link,year,name)\n",
    "            \n",
    "            \n",
    "        \n",
    "        review_collection = get_review(link)\n",
    "        review = [name, year, review_collection]\n",
    "\n",
    "    return review\n",
    "\n"
   ]
  },
  {
   "cell_type": "code",
   "execution_count": null,
   "metadata": {},
   "outputs": [],
   "source": [
    "preview = get_movie_review('http://www.rottentomatoes.com/m/a_star_is_born_2018',2018,\"A Star Is Born\")"
   ]
  },
  {
   "cell_type": "code",
   "execution_count": null,
   "metadata": {},
   "outputs": [],
   "source": [
    "preview"
   ]
  },
  {
   "cell_type": "code",
   "execution_count": 167,
   "metadata": {},
   "outputs": [],
   "source": [
    "response1 = requests.get('http://www.rottentomatoes.com/m/black_panther_2018')\n",
    "if response1.status_code == 200:\n",
    "    result_page1 = BeautifulSoup(response1.content,'lxml')\n",
    "    body = result_page1.find('a',class_='small unstyled subtle articleLink')\n",
    "    sibody = body.next_sibling.next_sibling.get('href')\n",
    "#     link = 'https://www.rottentomatoes.com' + body\n",
    "\n",
    "#     review_collection = get_review(link)\n",
    "#     review = [name, year, review_collection]"
   ]
  },
  {
   "cell_type": "code",
   "execution_count": null,
   "metadata": {},
   "outputs": [],
   "source": []
  }
 ],
 "metadata": {
  "kernelspec": {
   "display_name": "Python 3",
   "language": "python",
   "name": "python3"
  },
  "language_info": {
   "codemirror_mode": {
    "name": "ipython",
    "version": 3
   },
   "file_extension": ".py",
   "mimetype": "text/x-python",
   "name": "python",
   "nbconvert_exporter": "python",
   "pygments_lexer": "ipython3",
   "version": "3.6.5"
  }
 },
 "nbformat": 4,
 "nbformat_minor": 2
}
