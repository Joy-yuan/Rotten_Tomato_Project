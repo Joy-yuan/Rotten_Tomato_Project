{
 "cells": [
  {
   "cell_type": "markdown",
   "metadata": {},
   "source": [
    "### Scrapping Reviews"
   ]
  },
  {
   "cell_type": "code",
   "execution_count": 10,
   "metadata": {},
   "outputs": [],
   "source": [
    "import pandas as pd"
   ]
  },
  {
   "cell_type": "code",
   "execution_count": null,
   "metadata": {},
   "outputs": [],
   "source": [
    "def get_review(link):\n",
    "    response = requests.get(link)\n",
    "    review_collection = []\n",
    "    if response.status_code == 200:\n",
    "        result_page = BeautifulSoup(response.content,'lxml')\n",
    "        all_review = result_page.find('div',class_='review_table')\n",
    "        for review in all_review:\n",
    "        review_collection.append(review.get_text())"
   ]
  },
  {
   "cell_type": "code",
   "execution_count": null,
   "metadata": {},
   "outputs": [],
   "source": [
    "response = requests.get('https://www.rottentomatoes.com/m/black_panther_2018/reviews/?type=top_critics')\n",
    "review_collection = []\n",
    "if response.status_code == 200:\n",
    "    result_page = BeautifulSoup(response.content,'lxml')\n",
    "    all_review = result_page.find('div',class_='review_table').find_all('div',class_='the_review')\n",
    "    for review in all_review:\n",
    "        review_collection.append(review.get_text())"
   ]
  },
  {
   "cell_type": "code",
   "execution_count": null,
   "metadata": {},
   "outputs": [],
   "source": []
  }
 ],
 "metadata": {
  "kernelspec": {
   "display_name": "Python 3",
   "language": "python",
   "name": "python3"
  },
  "language_info": {
   "codemirror_mode": {
    "name": "ipython",
    "version": 3
   },
   "file_extension": ".py",
   "mimetype": "text/x-python",
   "name": "python",
   "nbconvert_exporter": "python",
   "pygments_lexer": "ipython3",
   "version": "3.6.5"
  }
 },
 "nbformat": 4,
 "nbformat_minor": 2
}
